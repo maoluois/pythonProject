{
 "cells": [
  {
   "cell_type": "markdown",
   "metadata": {},
   "source": []
  },
  {
   "cell_type": "code",
   "execution_count": 1,
   "metadata": {},
   "outputs": [
    {
     "name": "stdout",
     "output_type": "stream",
     "text": [
      "682425\n"
     ]
    }
   ],
   "source": [
    "import os\n",
    "import sys\n",
    "\n",
    "# 请在此输入您的代码\n",
    "arr=[0 for _ in range(4046)]\n",
    "for i in range(1,2024):\n",
    "  for j in range(i+1,2024):\n",
    "    arr[i+j]+=i\n",
    "print(max(arr))"
   ]
  },
  {
   "cell_type": "code",
   "execution_count": null,
   "metadata": {},
   "outputs": [],
   "source": [
    "def smallest_multiple(n):\n",
    "    # 此处写你的代码 \n",
    "    product = 1  \n",
    "    for i in range(2, n + 1):\n",
    "        flag = 0\n",
    "        for j in range(2, i):\n",
    "            if i % j == 0:\n",
    "                flag = 1\n",
    "                break\n",
    "        if flag == 0:\n",
    "            product *= i\n",
    "\n",
    "    return product\n",
    "\n",
    "            \n",
    "# 输入n\n",
    "n = int(input())\n",
    "# 调用函数\n",
    "print(smallest_multiple(n))"
   ]
  }
 ],
 "metadata": {
  "kernelspec": {
   "display_name": "base",
   "language": "python",
   "name": "python3"
  },
  "language_info": {
   "codemirror_mode": {
    "name": "ipython",
    "version": 3
   },
   "file_extension": ".py",
   "mimetype": "text/x-python",
   "name": "python",
   "nbconvert_exporter": "python",
   "pygments_lexer": "ipython3",
   "version": "3.9.13"
  }
 },
 "nbformat": 4,
 "nbformat_minor": 2
}

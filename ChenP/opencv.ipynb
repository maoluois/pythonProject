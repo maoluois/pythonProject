{
 "cells": [
  {
   "cell_type": "markdown",
   "metadata": {},
   "source": [
    "任务二\n"
   ]
  },
  {
   "cell_type": "markdown",
   "metadata": {},
   "source": [
    "读取图像"
   ]
  },
  {
   "cell_type": "code",
   "execution_count": 1,
   "metadata": {},
   "outputs": [
    {
     "name": "stdout",
     "output_type": "stream",
     "text": [
      "D:\\\\ProgramData\\\\pythonProject\\\\ChenP\\\\battery1.jpg\n",
      "D:\\\\ProgramData\\\\pythonProject\\\\ChenP\\\\battery2.jpg\n",
      "D:\\\\ProgramData\\\\pythonProject\\\\ChenP\\\\bus1.png\n",
      "图像已成功转换为 JPG 格式。\n"
     ]
    }
   ],
   "source": [
    "import cv2\n",
    "import re\n",
    "\n",
    "# 原始路径字符串\n",
    "# r 表示使用原始字符串字面量\n",
    "path1 = r'D:\\ProgramData\\pythonProject\\ChenP\\battery1.jpg' \n",
    "path2 = r'D:\\ProgramData\\pythonProject\\ChenP\\battery2.jpg'\n",
    "path3 = r'D:\\ProgramData\\pythonProject\\ChenP\\bus1.png'\n",
    "# 使用正则表达式将斜杠替换为双斜杠\n",
    "new_path1 = re.sub(r'\\\\', r'\\\\\\\\', path1)\n",
    "new_path2 = re.sub(r'\\\\', r'\\\\\\\\', path2)\n",
    "new_path3 = re.sub(r'\\\\', r'\\\\\\\\', path3)\n",
    "print(new_path1)\n",
    "print(new_path2)\n",
    "print(new_path3)\n",
    "\n",
    "\n",
    "# 读取 PNG 图像\n",
    "png_image = cv2.imread(new_path3)\n",
    "\n",
    "# 检查图像是否已正确读取\n",
    "if png_image is None:\n",
    "    print(\"Error: 图像未能正确读取。请检查文件路径是否正确。\")\n",
    "else:\n",
    "    # 将图像保存为 JPG 格式\n",
    "    cv2.imwrite('path/to/your/image.jpg', png_image)\n",
    "    print(\"图像已成功转换为 JPG 格式。\")\n",
    "\n",
    "# 读取图片\n",
    "image1 = cv2.imread(new_path1)\n",
    "image2 = cv2.imread(new_path2)\n",
    "image3 = cv2.imread(new_path3)\n",
    "\n",
    "# # 显示图片\n",
    "# cv2.imshow('Image1', image1)\n",
    "# cv2.imshow('Image2', image2)\n",
    "# cv2.imshow('Image3', image3)\n",
    "\n",
    "\n",
    "# # 等待任意键被敲击\n",
    "# cv2.waitKey(0)\n",
    "\n",
    "# # 关闭所有窗口\n",
    "# cv2.destroyAllWindows()\n",
    "\n"
   ]
  },
  {
   "cell_type": "markdown",
   "metadata": {},
   "source": [
    "图像灰度化"
   ]
  },
  {
   "cell_type": "code",
   "execution_count": 7,
   "metadata": {},
   "outputs": [],
   "source": [
    "gray_image3 = cv2.cvtColor(image3, cv2.COLOR_RGB2GRAY)"
   ]
  },
  {
   "cell_type": "markdown",
   "metadata": {},
   "source": [
    "图像二值化"
   ]
  },
  {
   "cell_type": "code",
   "execution_count": null,
   "metadata": {},
   "outputs": [],
   "source": [
    "ret, thresh_image3 = cv2.threshold(gray_image3, 127, 255, cv2.THRESH_BINARY)"
   ]
  },
  {
   "cell_type": "markdown",
   "metadata": {},
   "source": [
    "三维化\n"
   ]
  },
  {
   "cell_type": "code",
   "execution_count": 8,
   "metadata": {},
   "outputs": [],
   "source": [
    "rgb_image = cv2.cvtColor(gray_image3, cv2.COLOR_BAYER_BG2BGR)"
   ]
  },
  {
   "cell_type": "markdown",
   "metadata": {},
   "source": [
    "显示图像"
   ]
  },
  {
   "cell_type": "code",
   "execution_count": null,
   "metadata": {},
   "outputs": [],
   "source": [
    "cv2.imshow('Image3', image3)   "
   ]
  },
  {
   "cell_type": "code",
   "execution_count": null,
   "metadata": {},
   "outputs": [],
   "source": [
    "cv2.imshow('gray_Image3', gray_image3)   "
   ]
  },
  {
   "cell_type": "code",
   "execution_count": null,
   "metadata": {},
   "outputs": [],
   "source": [
    "cv2.imshow('rgb_Image3', rgb_image)  "
   ]
  },
  {
   "cell_type": "markdown",
   "metadata": {},
   "source": [
    "显示图片并关闭窗口（必须的，要不然图像会立马关闭）\n"
   ]
  },
  {
   "cell_type": "code",
   "execution_count": 9,
   "metadata": {},
   "outputs": [],
   "source": [
    "# 等待任意键被敲击\n",
    "cv2.waitKey(0)\n",
    "\n",
    "# 关闭所有窗口\n",
    "cv2.destroyAllWindows()"
   ]
  },
  {
   "cell_type": "markdown",
   "metadata": {},
   "source": [
    "小作业"
   ]
  },
  {
   "cell_type": "code",
   "execution_count": 17,
   "metadata": {},
   "outputs": [],
   "source": [
    "import cv2\n",
    "import re\n",
    "\n",
    "# 原始路径字符串\n",
    "# r 表示使用原始字符串字面量\n",
    "path1 = r'D:\\ProgramData\\pythonProject\\ChenP\\battery1.jpg'\n",
    "path2 = r'D:\\ProgramData\\pythonProject\\ChenP\\battery2.jpg'\n",
    "\n",
    "# 使用正则表达式将斜杠替换为双斜杠\n",
    "new_path1 = re.sub(r'\\\\', r'\\\\\\\\', path1)\n",
    "new_path2 = re.sub(r'\\\\', r'\\\\\\\\', path2)\n",
    "\n",
    "# print(new_path1)\n",
    "# print(new_path2)\n",
    " \n",
    "image1 = cv2.imread(new_path1)\n",
    "image2 = cv2.imread(new_path2)\n",
    "\n",
    "\n",
    "\n",
    "gray_image1 = cv2.cvtColor(image1, cv2.COLOR_RGB2GRAY)  \n",
    "\n",
    "equ1 = cv2.equalizeHist(gray_image1) # 增强对比度\n",
    "\n",
    "ret, thresh_image1 = cv2.threshold(equ1, 248, 255, cv2.THRESH_BINARY)\n",
    "\n",
    "\n",
    "cv2.imshow('gray_Image1', equ1)  \n",
    "cv2.imshow('thresh_Image1', thresh_image1)\n",
    "# 等待任意键被敲击\n",
    "cv2.waitKey(0)\n",
    "\n",
    "# 关闭所有窗口\n",
    "cv2.destroyAllWindows()"
   ]
  },
  {
   "cell_type": "markdown",
   "metadata": {},
   "source": [
    "增强对比度：Gamm校正"
   ]
  },
  {
   "cell_type": "code",
   "execution_count": 19,
   "metadata": {},
   "outputs": [],
   "source": [
    "import cv2\n",
    "import re\n",
    "import numpy as np\n",
    "\n",
    "# 原始路径字符串\n",
    "# r 表示使用原始字符串字面量\n",
    "path1 = r'D:\\ProgramData\\pythonProject\\ChenP\\battery1.jpg'\n",
    "path2 = r'D:\\ProgramData\\pythonProject\\ChenP\\battery2.jpg'\n",
    "\n",
    "# 使用正则表达式将斜杠替换为双斜杠\n",
    "new_path1 = re.sub(r'\\\\', r'\\\\\\\\', path1)\n",
    "new_path2 = re.sub(r'\\\\', r'\\\\\\\\', path2)\n",
    "\n",
    "# print(new_path1)\n",
    "# print(new_path2)\n",
    " \n",
    "img = cv2.imread(new_path1 , cv2.IMREAD_COLOR)\n",
    "\n",
    "# Gamma校正函数\n",
    "def adjust_gamma(image, gamma=1.0):\n",
    "    inv_gamma = 1.0 / gamma\n",
    "    table = np.array([((i / 255.0) ** inv_gamma) * 255 for i in np.arange(0, 256)]).astype(\"uint8\")\n",
    "    return cv2.LUT(image, table)\n",
    "\n",
    "# 应用Gamma校正\n",
    "gamma_corrected = adjust_gamma(img, gamma=1.5)\n",
    "\n",
    "cv2.imshow('Original Image', img)\n",
    "cv2.imshow('Gamma Corrected Image', gamma_corrected)\n",
    "\n",
    "# 等待按下任意键后关闭窗口\n",
    "cv2.waitKey(0)\n",
    "cv2.destroyAllWindows()"
   ]
  },
  {
   "cell_type": "markdown",
   "metadata": {},
   "source": [
    "增强对比度：创建CLAHE对象"
   ]
  },
  {
   "cell_type": "code",
   "execution_count": null,
   "metadata": {},
   "outputs": [],
   "source": [
    "import cv2\n",
    "import re\n",
    "\n",
    "\n",
    "# 原始路径字符串\n",
    "# r 表示使用原始字符串字面量\n",
    "path1 = r'D:\\ProgramData\\pythonProject\\ChenP\\battery1.jpg'\n",
    "path2 = r'D:\\ProgramData\\pythonProject\\ChenP\\battery2.jpg'\n",
    "\n",
    "# 使用正则表达式将斜杠替换为双斜杠\n",
    "new_path1 = re.sub(r'\\\\', r'\\\\\\\\', path1)\n",
    "new_path2 = re.sub(r'\\\\', r'\\\\\\\\', path2)\n",
    "\n",
    "# print(new_path1)\n",
    "# print(new_path2)\n",
    " \n",
    "image1 = cv2.imread(new_path1)\n",
    "\n",
    "# 加载灰度图像\n",
    "gray_img = cv2.cvtColor(image1, cv2.COLOR_RGB2GRAY)\n",
    "\n",
    "# 创建CLAHE对象\n",
    "clahe = cv2.createCLAHE(clipLimit=2.0, tileGridSize=(8, 8))\n",
    "\n",
    "# 应用CLAHE\n",
    "equ = clahe.apply(gray_img)\n",
    "\n",
    "# 显示原始灰度图像和CLAHE处理后的图像\n",
    "cv2.imshow('Original Image', gray_img)\n",
    "cv2.imshow('CLAHE Image', equ)\n",
    "cv2.waitKey(0)\n",
    "cv2.destroyAllWindows()\n"
   ]
  }
 ],
 "metadata": {
  "kernelspec": {
   "display_name": "py312",
   "language": "python",
   "name": "python3"
  },
  "language_info": {
   "codemirror_mode": {
    "name": "ipython",
    "version": 3
   },
   "file_extension": ".py",
   "mimetype": "text/x-python",
   "name": "python",
   "nbconvert_exporter": "python",
   "pygments_lexer": "ipython3",
   "version": "3.9.13"
  }
 },
 "nbformat": 4,
 "nbformat_minor": 2
}

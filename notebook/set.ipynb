{
 "cells": [
  {
   "cell_type": "markdown",
   "metadata": {},
   "source": [
    "字典的get操作"
   ]
  },
  {
   "cell_type": "code",
   "execution_count": 1,
   "metadata": {},
   "outputs": [
    {
     "name": "stdout",
     "output_type": "stream",
     "text": [
      "1\n",
      "None\n",
      "Key not found\n"
     ]
    }
   ],
   "source": [
    "dic = {'a': 1, 'b': 2, 'c': 3}\n",
    "# 获取存在的键的值\n",
    "v_a = dic.get('a')\n",
    "print(v_a)\n",
    "# 获取不存在的键的值，默认返回 None\n",
    "v_d = dic.get('d')\n",
    "print(v_d)\n",
    "# 获取不存在的键的值，并提供默认值\n",
    "v_d = dic.get('d', \"Key not found\")\n",
    "print(v_d)"
   ]
  },
  {
   "cell_type": "markdown",
   "metadata": {},
   "source": [
    "取键值，并排序，并根据排序取value"
   ]
  },
  {
   "cell_type": "code",
   "execution_count": 1,
   "metadata": {},
   "outputs": [
    {
     "name": "stdout",
     "output_type": "stream",
     "text": [
      "adam: 3\n",
      "john: 1\n",
      "peter: 2\n"
     ]
    }
   ],
   "source": [
    "my_dict = {\"john\": 1, \"peter\": 2, \"adam\": 3}\n",
    "\n",
    "# 对字典的键进行排序\n",
    "sorted_keys = sorted(my_dict.keys())\n",
    "\n",
    "# 根据排序后的键顺序取值\n",
    "for key in sorted_keys:\n",
    "    value = my_dict[key]\n",
    "    print(f\"{key}: {value}\")\n"
   ]
  },
  {
   "cell_type": "markdown",
   "metadata": {},
   "source": [
    "defaultdict 字典的子类\n"
   ]
  },
  {
   "cell_type": "code",
   "execution_count": null,
   "metadata": {},
   "outputs": [],
   "source": [
    "from collections import defaultdict"
   ]
  }
 ],
 "metadata": {
  "kernelspec": {
   "display_name": "base",
   "language": "python",
   "name": "python3"
  },
  "language_info": {
   "codemirror_mode": {
    "name": "ipython",
    "version": 3
   },
   "file_extension": ".py",
   "mimetype": "text/x-python",
   "name": "python",
   "nbconvert_exporter": "python",
   "pygments_lexer": "ipython3",
   "version": "3.9.13"
  }
 },
 "nbformat": 4,
 "nbformat_minor": 2
}

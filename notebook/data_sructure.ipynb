{
 "cells": [
  {
   "cell_type": "markdown",
   "metadata": {},
   "source": [
    "栈  stack"
   ]
  },
  {
   "cell_type": "code",
   "execution_count": 4,
   "metadata": {},
   "outputs": [
    {
     "name": "stdout",
     "output_type": "stream",
     "text": [
      "3\n"
     ]
    }
   ],
   "source": [
    "class Stack:\n",
    "    \n",
    "    def __init__(self) -> None:\n",
    "        self.stack = []\n",
    "    \n",
    "    def push(self, element):\n",
    "        self.stack.append(element)\n",
    "    \n",
    "    def pop(self):\n",
    "        return self.stack.pop()\n",
    "    \n",
    "    def get_top(self): \n",
    "        if len(self.stack) > 0:\n",
    "            return self.stack[-1]\n",
    "        else:\n",
    "            return None\n",
    "\n",
    "if __name__ == \"__main__\":\n",
    "    stack = Stack()\n",
    "    stack.push(1)\n",
    "    stack.push(2)\n",
    "    stack.push(3)\n",
    "    print(stack.pop())\n",
    "\n"
   ]
  },
  {
   "cell_type": "markdown",
   "metadata": {},
   "source": [
    "栈的应用：括号匹配问题"
   ]
  },
  {
   "cell_type": "markdown",
   "metadata": {},
   "source": [
    "利用栈进出的对称性"
   ]
  },
  {
   "cell_type": "code",
   "execution_count": 6,
   "metadata": {},
   "outputs": [
    {
     "name": "stdout",
     "output_type": "stream",
     "text": [
      "True\n",
      "False\n"
     ]
    }
   ],
   "source": [
    "class Stack:\n",
    "    \n",
    "    def __init__(self) -> None:\n",
    "        self.stack = []\n",
    "    \n",
    "    def push(self, element):\n",
    "        self.stack.append(element)\n",
    "    \n",
    "    def pop(self):\n",
    "        self.stack.pop()\n",
    "    \n",
    "    def get_top(self): \n",
    "        if len(self.stack) > 0:\n",
    "            return self.stack[-1]\n",
    "        else:\n",
    "            return None\n",
    "    def is_empty(self) -> bool:\n",
    "        return len(self.stack) == 0\n",
    "\n",
    "\n",
    "\n",
    "def brace_match(s):\n",
    "    match = {'}':\"{\", ']':'[', ')':'('}\n",
    "    stack = Stack()\n",
    "    for ch in s:\n",
    "        if ch in {'(', '[', '{'}:\n",
    "            stack.push(ch)\n",
    "        else:\n",
    "            if stack.is_empty(): # 匹配到最后一个，后面没了\n",
    "                return False\n",
    "            elif stack.get_top() == match[ch]: # 与栈顶括号匹配\n",
    "                stack.pop()\n",
    "            else: # 与栈顶括号不匹配\n",
    "                return False   \n",
    "            \n",
    "    if stack.is_empty(): # 匹配完如果完全刚好匹配，栈应该是空的\n",
    "        return True\n",
    "    else:\n",
    "        return False\n",
    "    \n",
    "print(brace_match('[{()}(){()}[]({}){}]'))\n",
    "print(brace_match('[]}'))"
   ]
  },
  {
   "cell_type": "code",
   "execution_count": null,
   "metadata": {},
   "outputs": [],
   "source": []
  },
  {
   "cell_type": "markdown",
   "metadata": {},
   "source": [
    "队列--环形队列 Queue"
   ]
  },
  {
   "cell_type": "code",
   "execution_count": 1,
   "metadata": {},
   "outputs": [
    {
     "name": "stdout",
     "output_type": "stream",
     "text": [
      "True\n"
     ]
    }
   ],
   "source": [
    "class Queue:\n",
    "    def __init__(self, size = 100) -> None: # 环形列表需要固定长度\n",
    "        self.queue = [0 for _ in range(size)]\n",
    "        self.size = size\n",
    "        self.rear = 0 \n",
    "        self.front = 0 \n",
    "\n",
    "    def push(self, element):\n",
    "        if not self.is_filled():\n",
    "            self.rear = (self.rear + 1) % self.size\n",
    "            self.queue[self.rear] = element\n",
    "        else:\n",
    "            raise IndexError(\"Queue is filled.\")\n",
    "    def pop(self):\n",
    "        if not self.is_empty():\n",
    "            self.front = (self.front + 1) % self.size\n",
    "            return self.queue[self.front]  \n",
    "        else:\n",
    "            raise IndexError(\"Queue is empty.\")    \n",
    "    def is_empty(self):\n",
    "        return self.front == self.rear \n",
    "\n",
    "    def is_filled(self):\n",
    "        return (self.rear + 1) % self.size == self.front   \n",
    "    \n",
    "\n",
    "\n",
    "q = Queue(5)\n",
    "for i in range(4):\n",
    "    q.push(i)\n",
    "print(q.is_filled())\n"
   ]
  },
  {
   "cell_type": "markdown",
   "metadata": {},
   "source": [
    "python队列内置模块的使用\n"
   ]
  },
  {
   "cell_type": "markdown",
   "metadata": {},
   "source": [
    "bilibili p52 "
   ]
  },
  {
   "cell_type": "code",
   "execution_count": 3,
   "metadata": {},
   "outputs": [
    {
     "name": "stdout",
     "output_type": "stream",
     "text": [
      "2\n"
     ]
    }
   ],
   "source": [
    "from collections import deque\n",
    "q = deque([1, 2, 3, 4, 5], 5) # (初始队列，队列长度) \n",
    "q.append(6)  # 队尾进队 -> 队满后会自动从队首出队\n",
    "print(q.popleft()) # 队首出队 \n",
    "\n",
    "# 用于双向队列\n",
    "# q.appendleft(1) # 队首进队\n",
    "# q.pop() # 队尾出队\n",
    "\n",
    "# 可用于读取txt文件(可迭代对象)中的后几行 具体看b站\n",
    "\n"
   ]
  },
  {
   "cell_type": "markdown",
   "metadata": {},
   "source": [
    "迷宫问题 —— dps 栈 深度优先搜索"
   ]
  },
  {
   "cell_type": "code",
   "execution_count": 12,
   "metadata": {},
   "outputs": [
    {
     "name": "stdout",
     "output_type": "stream",
     "text": [
      "(1, 1)\n",
      "(2, 1)\n",
      "(3, 1)\n",
      "(4, 1)\n",
      "(5, 1)\n",
      "(5, 2)\n",
      "(5, 3)\n",
      "(6, 3)\n",
      "(6, 4)\n",
      "(6, 5)\n",
      "(7, 5)\n",
      "(8, 5)\n",
      "(8, 6)\n",
      "(8, 7)\n",
      "(8, 8)\n"
     ]
    },
    {
     "data": {
      "text/plain": [
       "True"
      ]
     },
     "execution_count": 12,
     "metadata": {},
     "output_type": "execute_result"
    }
   ],
   "source": [
    "maze = [\n",
    "    [1, 1, 1, 1, 1, 1, 1, 1, 1, 1], \n",
    "    [1, 0, 0, 1, 0, 0, 0, 1, 0, 1], \n",
    "    [1, 0, 0, 1, 0, 0, 0, 1, 0, 1], \n",
    "    [1, 0, 0, 0, 0, 1, 1, 0, 0, 1], \n",
    "    [1, 0, 1, 1, 1, 0, 0, 0, 0, 1], \n",
    "    [1, 0, 0, 0, 1, 0, 0, 0, 0, 1], \n",
    "    [1, 0, 1, 0, 0, 0, 1, 0, 0, 1],\n",
    "    [1, 0, 1, 1, 1, 0, 1, 1, 0, 1],\n",
    "    [1, 1, 0, 0, 0, 0, 0, 0, 0, 1],\n",
    "    [1, 1, 1, 1, 1, 1, 1, 1, 1, 1]\n",
    "]\n",
    "dirs =[\n",
    "    lambda x, y : (x + 1, y), # 上\n",
    "    lambda x, y : (x - 1, y), # 下\n",
    "    lambda x, y : (x, y - 1), # 左\n",
    "    lambda x, y : (x, y + 1)  # 右\n",
    "]\n",
    "\n",
    "\n",
    "def maze_path(x1, y1, x2, y2):\n",
    "    stack = []\n",
    "    stack.append((x1, y1))\n",
    "    while len(stack) > 0:\n",
    "        curNode = stack[-1] # 栈顶 -> 当前所在位置\n",
    "        if curNode[0] == x2 and curNode[1] == y2:\n",
    "            # 走到终点了\n",
    "            for p in stack:\n",
    "                print(p)\n",
    "            return True\n",
    "\n",
    "        for dir in dirs:\n",
    "            nextNode = dir(curNode[0], curNode[1])\n",
    "            if maze[nextNode[0]][nextNode[1]] == 0:\n",
    "                stack.append(nextNode)\n",
    "                maze[nextNode[0]][nextNode[1]] = 2 # 2表示为已经走过\n",
    "                break\n",
    "        else:\n",
    "            stack.pop()\n",
    "    else: \n",
    "        print(\"没有路\")\n",
    "        return False\n",
    "    \n",
    "maze_path(1, 1, 8, 8)\n"
   ]
  },
  {
   "cell_type": "markdown",
   "metadata": {},
   "source": [
    "迷宫问题 —— bfs 队列 广度优先搜索"
   ]
  },
  {
   "cell_type": "code",
   "execution_count": 2,
   "metadata": {},
   "outputs": [
    {
     "name": "stdout",
     "output_type": "stream",
     "text": [
      "[1, 1]\n",
      "[2, 1]\n",
      "[3, 1]\n",
      "[4, 1]\n",
      "[5, 1]\n",
      "[5, 2]\n",
      "[5, 3]\n",
      "[6, 3]\n",
      "[6, 4]\n",
      "[6, 5]\n",
      "[7, 5]\n",
      "[8, 5]\n",
      "[8, 6]\n",
      "[8, 7]\n",
      "[8, 8]\n"
     ]
    },
    {
     "data": {
      "text/plain": [
       "True"
      ]
     },
     "execution_count": 2,
     "metadata": {},
     "output_type": "execute_result"
    }
   ],
   "source": [
    "from collections import deque\n",
    "\n",
    "maze = [\n",
    "    [1, 1, 1, 1, 1, 1, 1, 1, 1, 1], \n",
    "    [1, 0, 0, 1, 0, 0, 0, 1, 0, 1], \n",
    "    [1, 0, 0, 1, 0, 0, 0, 1, 0, 1], \n",
    "    [1, 0, 0, 0, 0, 1, 1, 0, 0, 1], \n",
    "    [1, 0, 1, 1, 1, 0, 0, 0, 0, 1], \n",
    "    [1, 0, 0, 0, 1, 0, 0, 0, 0, 1], \n",
    "    [1, 0, 1, 0, 0, 0, 1, 0, 0, 1],\n",
    "    [1, 0, 1, 1, 1, 0, 1, 1, 0, 1],\n",
    "    [1, 1, 0, 0, 0, 0, 0, 0, 0, 1],\n",
    "    [1, 1, 1, 1, 1, 1, 1, 1, 1, 1]\n",
    "]\n",
    "dirs =[\n",
    "    lambda x, y : (x + 1, y), # 上\n",
    "    lambda x, y : (x - 1, y), # 下\n",
    "    lambda x, y : (x, y - 1), # 左\n",
    "    lambda x, y : (x, y + 1)  # 右\n",
    "]\n",
    "\n",
    "def print_r(path):\n",
    "    curNode = path[-1]\n",
    "    \n",
    "    realpath = []\n",
    "    \n",
    "    while curNode[2] != -1:\n",
    "        realpath.append([curNode[0], curNode[1]])\n",
    "        curNode = path[curNode[2]] # 通过前一个节点对应的path下标来读取前一个节点\n",
    "    realpath.append([curNode[0], curNode[1]]) # 起点\n",
    "\n",
    "    realpath.reverse()\n",
    "    for node in realpath:\n",
    "        print(node)\n",
    "\n",
    "\n",
    "\n",
    "def maze_path_queue(x1, y1, x2, y2):\n",
    "    queue = deque()\n",
    "    queue.append((x1, y1, -1))  # 三维，第三个数用来记录谁带他进来的的\n",
    "    path = [] \n",
    "    while len(queue) > 0:\n",
    "        curNode = queue.popleft()\n",
    "        path.append(curNode) # 存上一个节点的信息的列表 \n",
    "        if curNode[0] == x2 and curNode[1] == y2:\n",
    "            print_r(path)\n",
    "            return True\n",
    "        for dir in dirs:\n",
    "            nextnode = dir(curNode[0], curNode[1])\n",
    "            if maze[nextnode[0]][nextnode[1]] == 0:\n",
    "                queue.append((nextnode[0], nextnode[1], len(path) - 1)) # 后续节点进队，记录哪个节点带他来的，相当于一个指向path特定下标的指针\n",
    "                maze[nextnode[0]][nextnode[1]] = 2 # 标记为已经走过\n",
    "    else:\n",
    "        print(\"没有路\")\n",
    "        return False\n",
    "    \n",
    "maze_path_queue(1, 1, 8, 8)\n",
    "\n",
    "        \n",
    "    "
   ]
  },
  {
   "cell_type": "code",
   "execution_count": null,
   "metadata": {},
   "outputs": [],
   "source": []
  }
 ],
 "metadata": {
  "kernelspec": {
   "display_name": "base",
   "language": "python",
   "name": "python3"
  },
  "language_info": {
   "codemirror_mode": {
    "name": "ipython",
    "version": 3
   },
   "file_extension": ".py",
   "mimetype": "text/x-python",
   "name": "python",
   "nbconvert_exporter": "python",
   "pygments_lexer": "ipython3",
   "version": "3.9.18"
  }
 },
 "nbformat": 4,
 "nbformat_minor": 2
}

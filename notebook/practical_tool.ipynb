{
 "cells": [
  {
   "cell_type": "markdown",
   "metadata": {},
   "source": [
    "## -i https://pypi.tuna.tsinghua.edu.cn/simple"
   ]
  },
  {
   "cell_type": "markdown",
   "metadata": {},
   "source": [
    "### pdf 转 word\n"
   ]
  },
  {
   "cell_type": "code",
   "execution_count": 3,
   "metadata": {},
   "outputs": [
    {
     "name": "stderr",
     "output_type": "stream",
     "text": [
      "[INFO] Start to convert C:\\Users\\lmz\\Desktop\\实习证明-郭xx.pdf\n",
      "[INFO] \u001b[1;36m[1/4] Opening document...\u001b[0m\n",
      "[INFO] \u001b[1;36m[2/4] Analyzing document...\u001b[0m\n",
      "[INFO] \u001b[1;36m[3/4] Parsing pages...\u001b[0m\n",
      "[INFO] (1/1) Page 1\n",
      "[INFO] \u001b[1;36m[4/4] Creating pages...\u001b[0m\n",
      "[INFO] (1/1) Page 1\n",
      "[INFO] Terminated in 0.68s.\n"
     ]
    },
    {
     "name": "stdout",
     "output_type": "stream",
     "text": [
      "PDF 文件已成功转换为 Word 文件：C:\\Users\\lmz\\Desktop\\实习证明-郭xx.docx\n"
     ]
    }
   ],
   "source": [
    "from pdf2docx import Converter\n",
    "\n",
    "# 输入PDF文件路径\n",
    "pdf_file = r'C:\\Users\\lmz\\Desktop\\实习证明-郭xx.pdf'\n",
    "\n",
    "# 输出Word文件路径\n",
    "word_file = r'C:\\Users\\lmz\\Desktop\\实习证明-郭xx.docx'\n",
    "\n",
    "# 创建Converter对象\n",
    "cv = Converter(pdf_file)\n",
    "\n",
    "# 进行转换\n",
    "cv.convert(word_file, start=0, end=None)\n",
    "\n",
    "# 关闭转换器\n",
    "cv.close()\n",
    "\n",
    "print(f\"PDF 文件已成功转换为 Word 文件：{word_file}\")\n"
   ]
  }
 ],
 "metadata": {
  "kernelspec": {
   "display_name": "base",
   "language": "python",
   "name": "python3"
  },
  "language_info": {
   "codemirror_mode": {
    "name": "ipython",
    "version": 3
   },
   "file_extension": ".py",
   "mimetype": "text/x-python",
   "name": "python",
   "nbconvert_exporter": "python",
   "pygments_lexer": "ipython3",
   "version": "3.9.13"
  }
 },
 "nbformat": 4,
 "nbformat_minor": 2
}

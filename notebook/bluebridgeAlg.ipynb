{
 "cells": [
  {
   "cell_type": "markdown",
   "metadata": {},
   "source": [
    "欧几里得算法（本质是迭代思想的运用）\n"
   ]
  },
  {
   "cell_type": "markdown",
   "metadata": {},
   "source": [
    "数学上直观可以理解为将商和余数尽量都可以用 y = kx 来表示这样就可以达成最大公约数 用 y = px + r中 y 是除数，x是被除数，r是余数"
   ]
  },
  {
   "cell_type": "code",
   "execution_count": 1,
   "metadata": {},
   "outputs": [
    {
     "name": "stdout",
     "output_type": "stream",
     "text": [
      "The GCD of 48 and 18 is: 6\n"
     ]
    }
   ],
   "source": [
    "def euclidean_algorithm(a, b):\n",
    "    while b != 0:\n",
    "        a, b = b, a % b  # b 等于 0 就跳出，所以跳出时 b 已经被赋值为 0\n",
    "    return a\n",
    "\n",
    "# 示例\n",
    "num1 = 48\n",
    "num2 = 18\n",
    "gcd_result = euclidean_algorithm(num1, num2)\n",
    "\n",
    "print(f\"The GCD of {num1} and {num2} is: {gcd_result}\")\n"
   ]
  },
  {
   "cell_type": "markdown",
   "metadata": {},
   "source": [
    "最小公倍数算法\n"
   ]
  },
  {
   "cell_type": "markdown",
   "metadata": {},
   "source": [
    "result * num // gcd(result, num)表示最小公倍数\n"
   ]
  },
  {
   "cell_type": "markdown",
   "metadata": {},
   "source": [
    "原理可解释为，俩个数的如果有最大公因数，那么拆成带最大公因数的最简式，俩式相乘会发现那个公因数乘了俩次，而俩数简式都只需要一个最大公因数，因此可以将它除掉，此时仍然可以满足条件，即可以整除俩数\n",
    "\n",
    "至于最小，因为是拆出最大公因数，除的也最大，所以得到最小公倍数"
   ]
  },
  {
   "cell_type": "code",
   "execution_count": null,
   "metadata": {},
   "outputs": [],
   "source": [
    "def gcd(a, b): # 寻找俩数的最大公因数\n",
    "    while b:\n",
    "        a, b = b, a % b\n",
    "    \n",
    "    return a\n",
    "\n",
    "def lcm_of_list(numbers):\n",
    "    result = 1\n",
    "    for num in numbers: \n",
    "        result = result * num // gcd(result, num)\n",
    "    return result\n",
    "\n",
    "def smallest_multiple(n):\n",
    "    numbers = list(range(2, n + 1)) # 建立从2-n的列表\n",
    "    result = lcm_of_list(numbers)\n",
    "    return result\n",
    "\n",
    "\n",
    "            \n",
    "# 输入n\n",
    "n = int(input())\n",
    "# 调用函数\n",
    "print(smallest_multiple(n))"
   ]
  },
  {
   "cell_type": "markdown",
   "metadata": {},
   "source": [
    "二分专项练习(模板) leetcode t 35\n"
   ]
  },
  {
   "cell_type": "markdown",
   "metadata": {},
   "source": [
    "缩到很小时要左右指针一个一个接近，因此不用考虑极端情况，用模板就好，实在不行自己在草稿纸上列一个顺序列表自己尝试\n"
   ]
  },
  {
   "cell_type": "markdown",
   "metadata": {},
   "source": [
    "顺序列表考虑二分，主要调整的是if check()和最后的return\n"
   ]
  },
  {
   "cell_type": "markdown",
   "metadata": {},
   "source": [
    "https://leetcode.cn/problems/find-first-and-last-position-of-element-in-sorted-array/"
   ]
  },
  {
   "cell_type": "markdown",
   "metadata": {},
   "source": [
    "闭区间型       "
   ]
  },
  {
   "cell_type": "markdown",
   "metadata": {},
   "source": [
    "left为边界外第一个元素"
   ]
  },
  {
   "cell_type": "code",
   "execution_count": null,
   "metadata": {},
   "outputs": [],
   "source": [
    "def searchInsert(nums: list[int], target: int) -> int:\n",
    "    left, right = 0, len(nums) - 1\n",
    "    while left <= right:\n",
    "        mid = (left + right) // 2\n",
    "        if nums[mid] > target:\n",
    "            right = mid - 1\n",
    "        elif nums[mid] < target:\n",
    "            left = mid + 1\n",
    "        else:\n",
    "            return mid\n",
    "    return left\n",
    "    \n",
    "li = list(map(int, input().split()))\n",
    "num = int(input())\n",
    "print(searchInsert(li , num))\n",
    "\n"
   ]
  },
  {
   "cell_type": "markdown",
   "metadata": {},
   "source": [
    "二分 （t34）"
   ]
  },
  {
   "cell_type": "markdown",
   "metadata": {},
   "source": [
    "左闭右开型 left "
   ]
  },
  {
   "cell_type": "code",
   "execution_count": null,
   "metadata": {},
   "outputs": [],
   "source": [
    "def searchRange(nums: list[int], target: int) -> list[int]:\n",
    "    left = 0\n",
    "    right = len(nums)\n",
    "    while left < right:\n",
    "        mid = (left + right) // 2\n",
    "        if nums[mid] < target:\n",
    "            left = mid + 1\n",
    "        else:\n",
    "            right = mid\n",
    "    return left\n",
    "\n",
    "li = list(map(int, input().split()))\n",
    "t = int(input())\n",
    "start = searchRange(li, t)\n",
    "if li[start] != t or len(li) == start:\n",
    "    print([-1, -1])\n",
    "else:\n",
    "    end = searchRange(li, t + 1) - 1\n",
    "    print([start, end])"
   ]
  },
  {
   "cell_type": "markdown",
   "metadata": {},
   "source": [
    "开区间型 right\n"
   ]
  },
  {
   "cell_type": "code",
   "execution_count": null,
   "metadata": {},
   "outputs": [],
   "source": [
    "def searchRange(nums: list[int], target: int) -> list[int]:\n",
    "    left = -1\n",
    "    right = len(nums)\n",
    "    while left < right - 1:\n",
    "        mid = (left + right) // 2\n",
    "        if nums[mid] < target:\n",
    "            left = mid\n",
    "        else:\n",
    "            right = mid\n",
    "    return right\n",
    "\n",
    "li = list(map(int, input().split()))\n",
    "t = int(input())\n",
    "start = searchRange(li, t)\n",
    "print(start)\n",
    "if li[start] != t or len(li) == start:\n",
    "    print([-1, -1])\n",
    "else:\n",
    "    end = searchRange(li, t + 1) - 1\n",
    "    print([start, end])"
   ]
  },
  {
   "cell_type": "markdown",
   "metadata": {},
   "source": [
    "leetcode t162  "
   ]
  },
  {
   "cell_type": "markdown",
   "metadata": {},
   "source": [
    "暗藏顺序类 寻找峰值"
   ]
  },
  {
   "cell_type": "markdown",
   "metadata": {},
   "source": [
    "https://leetcode.cn/problems/find-peak-element/solutions/2570305/javapython3cer-fen-cha-zhao-bu-man-zu-fe-93il"
   ]
  },
  {
   "cell_type": "code",
   "execution_count": null,
   "metadata": {},
   "outputs": [],
   "source": [
    "class Solution:\n",
    "    def findPeakElement(self, nums: list[int]) -> int:\n",
    "        lo = 0\n",
    "        hi = len(nums) - 1\n",
    "        while lo < hi:\n",
    "            mid = (lo + hi) // 2\n",
    "            if nums[mid] < nums[mid + 1]:\n",
    "                lo = mid + 1\n",
    "            else:\n",
    "                hi = mid\n",
    "        return lo\n"
   ]
  },
  {
   "cell_type": "markdown",
   "metadata": {},
   "source": [
    "leetcode t153 "
   ]
  },
  {
   "cell_type": "markdown",
   "metadata": {},
   "source": [
    "mid 和 right 为check条件"
   ]
  },
  {
   "cell_type": "markdown",
   "metadata": {},
   "source": [
    "https://leetcode.cn/problems/find-minimum-in-rotated-sorted-array/solutions/126635/er-fen-cha-zhao-wei-shi-yao-zuo-you-bu-dui-cheng-z"
   ]
  },
  {
   "cell_type": "code",
   "execution_count": null,
   "metadata": {},
   "outputs": [],
   "source": [
    "class Solution:\n",
    "    def findMin(self, nums: list[int]) -> int:\n",
    "        left = 0\n",
    "        right = len(nums) - 1\n",
    "        while left < right:\n",
    "            mid = (left + right) // 2\n",
    "            if nums[mid] > nums[right]:\n",
    "                left = mid + 1\n",
    "            else: \n",
    "                right = mid\n",
    "        return nums[left] \n",
    "        "
   ]
  },
  {
   "cell_type": "markdown",
   "metadata": {},
   "source": [
    "leetcode t33 "
   ]
  },
  {
   "cell_type": "markdown",
   "metadata": {},
   "source": [
    "mid分情况类"
   ]
  },
  {
   "cell_type": "markdown",
   "metadata": {},
   "source": [
    "https://leetcode.cn/problems/search-in-rotated-sorted-array/description/"
   ]
  },
  {
   "cell_type": "code",
   "execution_count": null,
   "metadata": {},
   "outputs": [],
   "source": [
    "class Solution:\n",
    "    def search(self, nums: list[int], target: int) -> int:\n",
    "        if len(nums) == 0:\n",
    "            return -1\n",
    "        \n",
    "        left = 0\n",
    "        right = len(nums) -1\n",
    "        while left <= right:\n",
    "            mid = (left + right) // 2\n",
    "            if nums[mid] == target:\n",
    "                return mid\n",
    "            # 一共有两个递增分支，先确定mid在哪一半，再确定方案\n",
    "            if nums[mid] >= nums[0]: # 在左分支\n",
    "                if nums[mid] > target and target >= nums[0]:\n",
    "                    right = mid -1  \n",
    "                else:\n",
    "                    left = mid + 1\n",
    "            elif nums[mid] <= nums[-1]: # 在右分支\n",
    "                if nums[mid] < target and target <= nums[-1]:\n",
    "                    left = mid + 1\n",
    "                else:\n",
    "                    right = mid - 1\n",
    "        return -1"
   ]
  },
  {
   "cell_type": "markdown",
   "metadata": {},
   "source": [
    "模拟赛第6题  "
   ]
  },
  {
   "cell_type": "markdown",
   "metadata": {},
   "source": [
    "解方程类二分"
   ]
  },
  {
   "cell_type": "markdown",
   "metadata": {},
   "source": [
    "https://www.lanqiao.cn/problems/16982/learning/?contest_id=171"
   ]
  },
  {
   "cell_type": "code",
   "execution_count": null,
   "metadata": {},
   "outputs": [],
   "source": [
    "import math\n",
    "\n",
    "\n",
    "def check(x):\n",
    "  if int(math.log(x, k)) + math.sqrt(x) - m > 0:\n",
    "    return 1\n",
    "  else: \n",
    "    return 0\n",
    "\n",
    "\n",
    "t = int(input())\n",
    "for i in range(t):\n",
    "  k, m = map(int, input().split())\n",
    "  left = 1\n",
    "  right = m * m + 1\n",
    "  while left < right:\n",
    "    mid = (left + right) // 2\n",
    "    if check(mid):\n",
    "      right = mid\n",
    "    else:\n",
    "      left = mid + 1\n",
    "\n",
    "  print(left)"
   ]
  },
  {
   "cell_type": "markdown",
   "metadata": {},
   "source": [
    "递归\n"
   ]
  },
  {
   "cell_type": "markdown",
   "metadata": {},
   "source": [
    "关键分析方法：栈分析法"
   ]
  },
  {
   "cell_type": "markdown",
   "metadata": {},
   "source": [
    "递归与分治思想，汉诺塔问题\n",
    "具体见leetcode 面试题t08.06."
   ]
  },
  {
   "cell_type": "markdown",
   "metadata": {},
   "source": [
    "你可能会问：“那 n - 1 个盘子是怎么从 A 移到 C 的呢？”\n",
    "\n",
    "注意，当你在思考这个问题的时候，就将最初的 n 个盘子从 A 移到 C 的问题，转化成了将 n - 1 个盘子从 A 移到 C 的问题，依次类推，直至转化成 1 个盘子的问题时，问题也就解决了。这就是分治的思想,\n",
    "而实现分治思想的常用方法就是递归。\n",
    "\n",
    "链接：https://leetcode.cn/problems/hanota-lcci/solutions/95934/tu-jie-yi-nuo-ta-de-gu-shi-ju-shuo-dang-64ge-pan-z/\n"
   ]
  },
  {
   "cell_type": "code",
   "execution_count": 1,
   "metadata": {},
   "outputs": [],
   "source": [
    "def hanota(A: list[int], B: list[int], C: list[int]) -> None:\n",
    "    n = len(A)\n",
    "    move(n, A, B, C)\n",
    "# 定义move 函数移动汉诺塔\n",
    "def move(n, A, B, C):\n",
    "    if n == 1:\n",
    "        C.append(A[-1])\n",
    "        A.pop()\n",
    "        return  \n",
    "    else:\n",
    "        move(n-1, A, C, B)  # 将A上面n-1个通过C移到B\n",
    "        C.append(A[-1])     # 将A最后一个移到C\n",
    "        A.pop()             # 这时，A空了\n",
    "        move(n - 1, B, A, C)   # 将B上面n-1个通过空的A移到C\n",
    "\n"
   ]
  },
  {
   "cell_type": "code",
   "execution_count": 4,
   "metadata": {},
   "outputs": [
    {
     "name": "stdout",
     "output_type": "stream",
     "text": [
      "最顶层从 A 移动到 B\n",
      "最顶层从 A 移动到 C\n",
      "最顶层从 B 移动到 C\n"
     ]
    }
   ],
   "source": [
    "# 移动过程的代码，每次都是移动最上面那个\n",
    "def hanota1(n, a, b, c):\n",
    "    if n > 0:\n",
    "        hanota1(n - 1, a, c ,b)\n",
    "        print(f\"最顶层从 {a} 移动到 {c}\") \n",
    "        hanota1(n - 1, b ,a ,c)\n",
    "\n",
    "hanota1(2, \"A\", \"B\", \"C\")"
   ]
  },
  {
   "cell_type": "markdown",
   "metadata": {},
   "source": [
    "求移动次数"
   ]
  },
  {
   "cell_type": "code",
   "execution_count": null,
   "metadata": {},
   "outputs": [],
   "source": [
    "print(2**int(input()) - 1) # 一行直接数学方法秒了"
   ]
  },
  {
   "cell_type": "code",
   "execution_count": 9,
   "metadata": {},
   "outputs": [
    {
     "name": "stdout",
     "output_type": "stream",
     "text": [
      "最顶层从 A 移动到 B\n",
      "最顶层从 A 移动到 C\n",
      "最顶层从 B 移动到 C\n",
      "3\n"
     ]
    }
   ],
   "source": [
    "# 移动过程的代码，每次都是移动最上面那个\n",
    "\n",
    "def hanota1(n, a, b, c):\n",
    "    global cnt\n",
    "    if n > 0:\n",
    "        hanota1(n-1, a, c ,b)\n",
    "        # print(f\"最顶层从 {a} 移动到 {c}\") \n",
    "        cnt += 1\n",
    "        hanota1(n-1, b ,a ,c)\n",
    "cnt = 0\n",
    "n = int(input())\n",
    "hanota1(n, \"A\", \"B\", \"C\")\n",
    "print(cnt * 2)"
   ]
  },
  {
   "cell_type": "markdown",
   "metadata": {},
   "source": [
    "母牛的故事"
   ]
  },
  {
   "cell_type": "markdown",
   "metadata": {},
   "source": [
    "有一头母牛，它每年年初生一头小母牛。每头小母牛从第四个年头开始，每年年初也生一头小母牛。请编程实现在第n年的时候，共有多少头母牛？"
   ]
  },
  {
   "cell_type": "markdown",
   "metadata": {},
   "source": [
    "year == 1: 在第一年只有一头母牛。\n",
    "year == 2: 在第二年有两头母牛（原母牛和第一年生的小母牛）。\n",
    "year == 3: 在第三年有三头母牛（原母牛和前两年各生的一头小母牛）。\n",
    "从第四年开始，每年新增的母牛数等于三年前的母牛数量。因此在第四年，母牛数量为 num(year - 1) + num(year - 3)，即上一年的母牛总数加上前三年的母牛总数。"
   ]
  },
  {
   "cell_type": "markdown",
   "metadata": {},
   "source": [
    "动态规划"
   ]
  },
  {
   "cell_type": "markdown",
   "metadata": {},
   "source": [
    "本质上是记忆化搜索加强版\n",
    "\n"
   ]
  },
  {
   "cell_type": "code",
   "execution_count": 1,
   "metadata": {},
   "outputs": [
    {
     "name": "stdout",
     "output_type": "stream",
     "text": [
      "2\n",
      "4\n",
      "9\n"
     ]
    }
   ],
   "source": [
    "def num(year):\n",
    "    if year <= 3:\n",
    "        return year\n",
    "    dp = [0] * (year + 1)\n",
    "    dp[1], dp[2], dp[3] = 1, 2, 3\n",
    "    for i in range(4, year + 1):\n",
    "        dp[i] = dp[i - 1] + dp[i - 3]\n",
    "    return dp[year]\n",
    "\n",
    "while True:\n",
    "    n = int(input())\n",
    "    if n == 0:\n",
    "        break\n",
    "    print(num(n))\n"
   ]
  },
  {
   "cell_type": "markdown",
   "metadata": {},
   "source": [
    "常规斐波那契"
   ]
  },
  {
   "cell_type": "code",
   "execution_count": 19,
   "metadata": {},
   "outputs": [
    {
     "name": "stdout",
     "output_type": "stream",
     "text": [
      "斐波那契数列的第20项为:6765\n",
      "递归次数为:13529\n"
     ]
    }
   ],
   "source": [
    "\n",
    "\n",
    "def f(n):\n",
    "    global cnt\n",
    "    cnt += 1\n",
    "    if n == 1 or n == 2:\n",
    "        return 1\n",
    "    return f(n - 1) + f(n - 2)\n",
    "\n",
    "cnt = 0\n",
    "n = int(input())\n",
    "print(f\"斐波那契数列的第{n}项为:{f(n)}\")\n",
    "print(f\"递归次数为:{cnt}\")\n",
    "\n",
    "        "
   ]
  },
  {
   "cell_type": "markdown",
   "metadata": {},
   "source": [
    "斐波那契数列的记忆化搜索"
   ]
  },
  {
   "cell_type": "markdown",
   "metadata": {},
   "source": [
    "含有dp的思想\n"
   ]
  },
  {
   "cell_type": "code",
   "execution_count": 3,
   "metadata": {},
   "outputs": [
    {
     "name": "stdout",
     "output_type": "stream",
     "text": [
      "斐波那契数列的第3项为:2\n",
      "递归次数为:5\n"
     ]
    }
   ],
   "source": [
    "a = [0] * int(1e5 + 10)\n",
    "\n",
    "def f(n) -> int:\n",
    "    global cnt  # 设置为全局变量\n",
    "    cnt += 1\n",
    "    if n == 1 or n == 2:\n",
    "        a[n] = 1\n",
    "        return 1\n",
    "    if a[n]:\n",
    "        return a[n]\n",
    "    a[n] = f(n - 1) + f(n - 2)\n",
    "    return f(n - 1) + f(n - 2)\n",
    "\n",
    "\n",
    "cnt = 0\n",
    "n = int(input())\n",
    "print(f\"斐波那契数列的第{n}项为:{f(n)}\")\n",
    "print(f\"递归次数为:{cnt}\")\n",
    "\n"
   ]
  },
  {
   "cell_type": "markdown",
   "metadata": {},
   "source": [
    "练习：求阶乘"
   ]
  },
  {
   "cell_type": "code",
   "execution_count": 4,
   "metadata": {},
   "outputs": [
    {
     "name": "stdout",
     "output_type": "stream",
     "text": [
      "5的阶乘为:120\n"
     ]
    }
   ],
   "source": [
    "def f(n):\n",
    "    if n == 0 or n == 1:\n",
    "        return 1\n",
    "    \n",
    "    return f(n - 1) * n\n",
    "\n",
    "n = int(input())\n",
    "print(f\"{n}的阶乘为:{f(n)}\")\n",
    "        "
   ]
  },
  {
   "cell_type": "markdown",
   "metadata": {},
   "source": [
    "gcd 求最大公因数 递归版"
   ]
  },
  {
   "cell_type": "code",
   "execution_count": 1,
   "metadata": {},
   "outputs": [
    {
     "name": "stdout",
     "output_type": "stream",
     "text": [
      "8\n"
     ]
    }
   ],
   "source": [
    "def gcd(a, b):\n",
    "    if b == 0:\n",
    "        return a\n",
    "    return gcd(b, a % b)\n",
    "\n",
    "a, b = map(int, input().split())\n",
    "print(gcd(a, b))"
   ]
  },
  {
   "cell_type": "markdown",
   "metadata": {},
   "source": [
    "s01串"
   ]
  },
  {
   "cell_type": "code",
   "execution_count": 8,
   "metadata": {},
   "outputs": [
    {
     "name": "stdout",
     "output_type": "stream",
     "text": [
      "10101101\n"
     ]
    }
   ],
   "source": [
    "def s01(s, n):\n",
    "    if n == 0:\n",
    "        print(s)\n",
    "        return\n",
    "    \n",
    "    st = \"\"\n",
    "    \n",
    "    for i in s:\n",
    "        if i == '0':\n",
    "            st += '1'\n",
    "        else:\n",
    "            st += \"01\"\n",
    "    s01(st, n - 1)\n",
    "\n",
    "\n",
    "n = int(input())\n",
    "s01('0', n)"
   ]
  },
  {
   "cell_type": "markdown",
   "metadata": {},
   "source": [
    "DFS 深度优先搜索"
   ]
  },
  {
   "cell_type": "markdown",
   "metadata": {},
   "source": [
    "数字排列的所有可能性"
   ]
  },
  {
   "cell_type": "code",
   "execution_count": 4,
   "metadata": {},
   "outputs": [
    {
     "name": "stdout",
     "output_type": "stream",
     "text": [
      "1 1\n",
      "1 2\n",
      "1 3\n",
      "2 1\n",
      "2 2\n",
      "2 3\n",
      "3 1\n",
      "3 2\n",
      "3 3\n",
      "9\n"
     ]
    }
   ],
   "source": [
    "p = [0] * int(1e5 + 10)\n",
    "cnt = 0\n",
    "def printf():\n",
    "    for i in range(k):\n",
    "        if i < k - 1:\n",
    "            print(p[i], end=\" \")\n",
    "        else:\n",
    "            print(p[i])\n",
    "    \n",
    "def dfs(x):\n",
    "    global cnt\n",
    "    if x >= k:\n",
    "        printf()\n",
    "        cnt += 1\n",
    "        return\n",
    "    \n",
    "    for i in range(n):\n",
    "        p[x] = a[i]\n",
    "        dfs(x + 1)\n",
    "\n",
    "n, k = map(int, input().split())\n",
    "a = list(map(int, input().split()))\n",
    "dfs(0)\n",
    "print(cnt)\n"
   ]
  },
  {
   "cell_type": "markdown",
   "metadata": {},
   "source": [
    "组合数"
   ]
  },
  {
   "cell_type": "code",
   "execution_count": 22,
   "metadata": {},
   "outputs": [
    {
     "name": "stdout",
     "output_type": "stream",
     "text": [
      "1 2 3\n",
      "1 2 4\n",
      "1 3 4\n",
      "2 3 4\n",
      "4\n"
     ]
    }
   ],
   "source": [
    "cnt = 0\n",
    "p = [0] * int(1e5 + 10)\n",
    "\n",
    "def printf():\n",
    "    for i in range(k):\n",
    "        if i == k - 1:\n",
    "            print(p[i])\n",
    "        else:\n",
    "            print(p[i], end = \" \")\n",
    "\n",
    "def dfs(x, start):\n",
    "    global cnt\n",
    "    if x >= k:\n",
    "        printf()\n",
    "        cnt += 1\n",
    "        return\n",
    "    \n",
    "    for i in range(start, n):\n",
    "        p[x] = a[i]\n",
    "        dfs(x + 1, i + 1)\n",
    "        \n",
    "\n",
    "n, k = map(int, input().split())\n",
    "a = list(map(int, input().split()))\n",
    "dfs(0, 0)\n",
    "print(cnt)"
   ]
  },
  {
   "cell_type": "markdown",
   "metadata": {},
   "source": [
    "全排列"
   ]
  },
  {
   "cell_type": "code",
   "execution_count": 15,
   "metadata": {},
   "outputs": [
    {
     "name": "stdout",
     "output_type": "stream",
     "text": [
      "1 2 3\n",
      "1 3 2\n",
      "2 1 3\n",
      "2 3 1\n",
      "3 1 2\n",
      "3 2 1\n",
      "6\n"
     ]
    }
   ],
   "source": [
    "vst = [0] * int(1e5 + 10)\n",
    "p = [0] * int(1e5 + 10)\n",
    "\n",
    "def printf():\n",
    "    for i in range(k):\n",
    "        if i == k - 1:\n",
    "            print(p[i])\n",
    "        else:\n",
    "            print(p[i], end = \" \")\n",
    "\n",
    "def dfs(x):\n",
    "    global cnt\n",
    "    if x >= k:\n",
    "        printf()\n",
    "        cnt += 1\n",
    "        return \n",
    "    for i in range(n):\n",
    "        if vst[i] == 0:\n",
    "            vst[i] = 1\n",
    "            p[x] = a[i]\n",
    "            dfs(x + 1)\n",
    "            vst[i] = 0\n",
    "\n",
    "\n",
    "cnt = 0\n",
    "n = k = int(input())\n",
    "a = list(map(int, input().split()))\n",
    "dfs(0)\n",
    "print(cnt)"
   ]
  },
  {
   "cell_type": "markdown",
   "metadata": {},
   "source": [
    "排列数"
   ]
  },
  {
   "cell_type": "code",
   "execution_count": 3,
   "metadata": {},
   "outputs": [
    {
     "name": "stdout",
     "output_type": "stream",
     "text": [
      "1 2\n",
      "1 3\n",
      "2 1\n",
      "2 3\n",
      "3 1\n",
      "3 2\n"
     ]
    }
   ],
   "source": [
    "vst = [0] * (int(1e5 + 10))\n",
    "p = [0] * (int(1e5 + 10))\n",
    "\n",
    "def printf():\n",
    "    for i in range(k):\n",
    "        if i == k - 1:\n",
    "            print(p[i])\n",
    "        else:\n",
    "            print(p[i], end = \" \")\n",
    "        \n",
    "\n",
    "def dfs(x):\n",
    "    global cnt\n",
    "    if x >= k:\n",
    "        printf()\n",
    "        cnt += 1\n",
    "        return\n",
    "\n",
    "    for i in range(n):\n",
    "        if vst[i] == 0:\n",
    "            vst[i] = 1\n",
    "            p[x] = a[i]\n",
    "            dfs(x + 1)\n",
    "            vst[i] = 0\n",
    "\n",
    "\n",
    "\n",
    "\n",
    "cnt = 0\n",
    "n, k = map(int, input().split())\n",
    "a = list(map(int, input().split()))\n",
    "dfs(0)\n"
   ]
  },
  {
   "cell_type": "markdown",
   "metadata": {},
   "source": [
    "子集问题"
   ]
  },
  {
   "cell_type": "code",
   "execution_count": 11,
   "metadata": {},
   "outputs": [
    {
     "name": "stdout",
     "output_type": "stream",
     "text": [
      "{1, 2, 3}\n",
      "{1, 2}\n",
      "{1, 3}\n",
      "{1}\n",
      "{2, 3}\n",
      "{2}\n",
      "{3}\n",
      "{}\n"
     ]
    }
   ],
   "source": [
    "v = [0] * int(1e5 + 10)\n",
    "\n",
    "def printf():\n",
    "    ans = set()\n",
    "    for i in range(n):\n",
    "        if v[i] == 1:\n",
    "            ans.add(a[i])\n",
    "    if len(ans) != 0:\n",
    "        print(ans)\n",
    "    else:\n",
    "        print({})\n",
    "\n",
    "def dfs(x):\n",
    "    global cnt\n",
    "    if x >= n:\n",
    "        printf()\n",
    "        cnt += 1\n",
    "        return\n",
    "\n",
    "    v[x] = 1\n",
    "    dfs(x + 1)\n",
    "    v[x] = 0\n",
    "    dfs(x + 1)\n",
    "\n",
    "cnt = 0\n",
    "n = int(input())\n",
    "a = list(map(int, input().split()))\n",
    "\n",
    "dfs(0)\n",
    "print(cnt)"
   ]
  },
  {
   "cell_type": "markdown",
   "metadata": {},
   "source": [
    "走迷宫\n"
   ]
  },
  {
   "cell_type": "code",
   "execution_count": null,
   "metadata": {},
   "outputs": [],
   "source": [
    "def dfs(x, y, cnt):\n",
    "    global ans\n",
    "    if x == n - 1 and y == m - 1:\n",
    "        ans = min(ans, cnt)\n",
    "        return\n",
    "\n",
    "    for dx, dy in [(0, 1), (0, -1), (1, 0), (-1, 0)]:\n",
    "        nx, ny = x + dx, y + dy\n",
    "        if 0 <= nx < n and 0 <= ny < m and a[nx][ny] == 'o' and not v[nx][ny]: \n",
    "            # 要注意判断是否出边界 0 <= nx < n and 0 <= ny < m\n",
    "            v[nx][ny] = 1\n",
    "            dfs(nx, ny, cnt + 1)\n",
    "            v[nx][ny] = 0\n",
    "\n",
    "n, m = map(int, input().split())\n",
    "a = [list(input()) for _ in range(n)] # 注意二维数组的输入\n",
    "v = [[0] * m for _ in range(n)]\n",
    "ans = float('inf')\n",
    "dfs(0, 0, 0)   \n",
    "print(ans)"
   ]
  },
  {
   "cell_type": "markdown",
   "metadata": {},
   "source": [
    "BFS"
   ]
  },
  {
   "cell_type": "markdown",
   "metadata": {},
   "source": [
    "搜索二维数组"
   ]
  },
  {
   "cell_type": "code",
   "execution_count": 12,
   "metadata": {},
   "outputs": [
    {
     "name": "stdout",
     "output_type": "stream",
     "text": [
      " 8  7  6  5  4  5  6  7  8\n",
      " 7  6 -2  4  3  4  5  6  7\n",
      " 6  5  4  3  2  3  4 -2  6\n",
      " 5  4  3  2  1  2  3  4  5\n",
      " 4  3  2  1  0  1  2  3  4\n",
      " 5  4  3  2  1 -2  3  4  5\n",
      " 6  5  4  3  2  3  4  5  6\n",
      " 7  6  5  4  3  4  5  6  7\n",
      " 8  7  6  5  4  5  6  7  8\n"
     ]
    }
   ],
   "source": [
    "from collections import deque\n",
    "\n",
    "dx = [-1, 1, 0, 0]\n",
    "dy = [0, 0, -1, 1]\n",
    "\n",
    "def bfs(x, y):\n",
    "    queue = deque()\n",
    "    queue.append((x, y, 0)) # 队列中的元素是含有三个元素的元组 0：x坐标  1：y坐标  2：步数\n",
    "    a[x][y] = 0\n",
    "    while len(queue) > 0:\n",
    "        x = queue[0][0] # 记录队首的信息\n",
    "        y = queue[0][1]\n",
    "        step = queue[0][2]\n",
    "        queue.popleft() # 队首出队\n",
    "        for i in range(4):\n",
    "            nx = dx[i] + x \n",
    "            ny = dy[i] + y\n",
    "            if 0 <= nx < n and 0 <= ny < n and a[nx][ny] == -1: # 判断边界，新节点是否合法\n",
    "                queue.append((nx, ny, step + 1))\n",
    "                a[nx][ny] = step + 1\n",
    "\n",
    "n, x, y = map(int, input().split())\n",
    "a = [[-1 for _ in range(n)] for _ in range(n)]\n",
    "m = int(input())\n",
    "while m > 0:\n",
    "    u, v = map(int, input().split()) \n",
    "    a[u][v] = -2 \n",
    "    m -= 1\n",
    "\n",
    "bfs(x, y)\n",
    "\n",
    "for i in range(n):\n",
    "    for j in range(n):\n",
    "        if j == n - 1:\n",
    "            print(\"%2d\" %(a[i][j]))\n",
    "        else:\n",
    "            print(\"%2d\" %(a[i][j]), end = \" \")\n"
   ]
  },
  {
   "cell_type": "markdown",
   "metadata": {},
   "source": [
    "搜索二维数组（有障碍物）"
   ]
  },
  {
   "cell_type": "code",
   "execution_count": 1,
   "metadata": {},
   "outputs": [
    {
     "ename": "ValueError",
     "evalue": "not enough values to unpack (expected 3, got 0)",
     "output_type": "error",
     "traceback": [
      "\u001b[1;31m---------------------------------------------------------------------------\u001b[0m",
      "\u001b[1;31mValueError\u001b[0m                                Traceback (most recent call last)",
      "\u001b[1;32m~\\AppData\\Local\\Temp\\ipykernel_5160\\3087847316.py\u001b[0m in \u001b[0;36m<module>\u001b[1;34m\u001b[0m\n\u001b[0;32m     20\u001b[0m                 \u001b[0ma\u001b[0m\u001b[1;33m[\u001b[0m\u001b[0mnx\u001b[0m\u001b[1;33m]\u001b[0m\u001b[1;33m[\u001b[0m\u001b[0mny\u001b[0m\u001b[1;33m]\u001b[0m \u001b[1;33m=\u001b[0m \u001b[0mstep\u001b[0m \u001b[1;33m+\u001b[0m \u001b[1;36m1\u001b[0m\u001b[1;33m\u001b[0m\u001b[1;33m\u001b[0m\u001b[0m\n\u001b[0;32m     21\u001b[0m \u001b[1;33m\u001b[0m\u001b[0m\n\u001b[1;32m---> 22\u001b[1;33m \u001b[0mn\u001b[0m\u001b[1;33m,\u001b[0m \u001b[0mx\u001b[0m\u001b[1;33m,\u001b[0m \u001b[0my\u001b[0m \u001b[1;33m=\u001b[0m \u001b[0mmap\u001b[0m\u001b[1;33m(\u001b[0m\u001b[0mint\u001b[0m\u001b[1;33m,\u001b[0m \u001b[0minput\u001b[0m\u001b[1;33m(\u001b[0m\u001b[1;33m)\u001b[0m\u001b[1;33m.\u001b[0m\u001b[0msplit\u001b[0m\u001b[1;33m(\u001b[0m\u001b[1;33m)\u001b[0m\u001b[1;33m)\u001b[0m\u001b[1;33m\u001b[0m\u001b[1;33m\u001b[0m\u001b[0m\n\u001b[0m\u001b[0;32m     23\u001b[0m \u001b[0ma\u001b[0m \u001b[1;33m=\u001b[0m \u001b[1;33m[\u001b[0m\u001b[1;33m[\u001b[0m\u001b[1;33m-\u001b[0m\u001b[1;36m1\u001b[0m \u001b[1;32mfor\u001b[0m \u001b[0m_\u001b[0m \u001b[1;32min\u001b[0m \u001b[0mrange\u001b[0m\u001b[1;33m(\u001b[0m\u001b[0mn\u001b[0m\u001b[1;33m)\u001b[0m\u001b[1;33m]\u001b[0m \u001b[1;32mfor\u001b[0m \u001b[0m_\u001b[0m \u001b[1;32min\u001b[0m \u001b[0mrange\u001b[0m\u001b[1;33m(\u001b[0m\u001b[0mn\u001b[0m\u001b[1;33m)\u001b[0m\u001b[1;33m]\u001b[0m\u001b[1;33m\u001b[0m\u001b[1;33m\u001b[0m\u001b[0m\n\u001b[0;32m     24\u001b[0m \u001b[0mbfs\u001b[0m\u001b[1;33m(\u001b[0m\u001b[0mx\u001b[0m\u001b[1;33m,\u001b[0m \u001b[0my\u001b[0m\u001b[1;33m)\u001b[0m\u001b[1;33m\u001b[0m\u001b[1;33m\u001b[0m\u001b[0m\n",
      "\u001b[1;31mValueError\u001b[0m: not enough values to unpack (expected 3, got 0)"
     ]
    }
   ],
   "source": [
    "from collections import deque\n",
    "\n",
    "dx = [-1, 1, 0, 0]\n",
    "dy = [0, 0, -1, 1]\n",
    "\n",
    "def bfs(x, y):\n",
    "    queue = deque()\n",
    "    queue.append((x, y, 0)) # 队列中的元素是含有三个元素的元组 0：x坐标  1：y坐标  2：步数\n",
    "    a[x][y] = 0\n",
    "    while len(queue) > 0:\n",
    "        x = queue[0][0] # 记录队首的信息\n",
    "        y = queue[0][1]\n",
    "        step = queue[0][2]\n",
    "        queue.popleft() # 队首出队\n",
    "        for i in range(4):\n",
    "            nx = dx[i] + x \n",
    "            ny = dy[i] + y\n",
    "            if 0 <= nx < n and 0 <= ny < n and a[nx][ny] == -1: # 判断边界，新节点是否合法\n",
    "                queue.append((nx, ny, step + 1))\n",
    "                a[nx][ny] = step + 1\n",
    "\n",
    "n, x, y = map(int, input().split())\n",
    "a = [[-1 for _ in range(n)] for _ in range(n)]\n",
    "m = int(input())\n",
    "while m > 0:\n",
    "    u, v = map(int, input().split()) \n",
    "    a[u][v] = -2 \n",
    "    m -= 1\n",
    "\n",
    "bfs(x, y)\n",
    "\n",
    "for i in range(n):\n",
    "    for j in range(n):\n",
    "        if j == n - 1:\n",
    "            print(\"%2d\" %(a[i][j]))\n",
    "        else:\n",
    "            print(\"%2d\" %(a[i][j]), end = \" \")\n"
   ]
  },
  {
   "cell_type": "markdown",
   "metadata": {},
   "source": [
    "走迷宫"
   ]
  },
  {
   "cell_type": "code",
   "execution_count": null,
   "metadata": {},
   "outputs": [],
   "source": []
  },
  {
   "cell_type": "markdown",
   "metadata": {},
   "source": [
    "滑动窗口问题\n"
   ]
  },
  {
   "cell_type": "markdown",
   "metadata": {},
   "source": [
    "t3"
   ]
  },
  {
   "cell_type": "markdown",
   "metadata": {},
   "source": [
    "https://leetcode.cn/problems/longest-substring-without-repeating-characters/solutions/2361797/3-wu-zhong-fu-zi-fu-de-zui-chang-zi-chua-26i5"
   ]
  },
  {
   "cell_type": "code",
   "execution_count": null,
   "metadata": {},
   "outputs": [],
   "source": [
    "class Solution:\n",
    "    def lengthOfLongestSubstring(self, s: str) -> int:\n",
    "        string_len = len(s)\n",
    "        if string_len < 2:\n",
    "            return string_len\n",
    "\n",
    "        # * 用集合存储当前窗口内的无重复字符\n",
    "        unique = set()\n",
    "\n",
    "        # * 当前无重复字符子串最大长度\n",
    "        max_length = 0\n",
    "\n",
    "        # * 右指针\n",
    "        R = 0\n",
    "\n",
    "        # * 用左指针 L 在整个字符上遍历\n",
    "        for L in range(string_len):\n",
    "            # * 移动 R\n",
    "            # 当 R 处字符不在窗口字符集合中时加入，并继续向右找\n",
    "            # 直到 R 处字符已经在集合中时停止\n",
    "            while R < string_len and s[R] not in unique:\n",
    "                unique.add(s[R])\n",
    "                R += 1\n",
    "\n",
    "            # * 从窗口字符集合中移除 L 处字符\n",
    "            # 为下一轮寻找以 L + 1 处字符开头的无重复字符子串做准备\n",
    "            unique.remove(s[L])\n",
    "\n",
    "            max_length = max(max_length, R - L)\n",
    "\n",
    "            if string_len - L + 1 <= max_length:\n",
    "                return max_length\n",
    "\n",
    "        return max_length"
   ]
  },
  {
   "cell_type": "markdown",
   "metadata": {},
   "source": [
    "排序算法\n"
   ]
  },
  {
   "cell_type": "markdown",
   "metadata": {},
   "source": [
    "冒泡排序（把最大的一个一个往后放）"
   ]
  },
  {
   "cell_type": "code",
   "execution_count": 1,
   "metadata": {},
   "outputs": [
    {
     "name": "stdout",
     "output_type": "stream",
     "text": [
      "[0, 1, 2, 3, 4, 7, 8, 9]\n"
     ]
    }
   ],
   "source": [
    "def BubbleSort(li: list) -> None:\n",
    "    for i in range(len(li) - 1):\n",
    "        for j in range(len(li) - 1 - i):\n",
    "            # tmp = 0\n",
    "            if li[j] > li[j + 1]:\n",
    "                # tmp = li[i]\n",
    "                # li[i] = li[i + 1]\n",
    "                # li[i + 1] = tmp\n",
    "                li[j], li[j + 1] = li[j + 1], li[j]\n",
    "\n",
    "    return 0\n",
    "if __name__ == \"__main__\":\n",
    "    li = list(map(int, input().split()))\n",
    "    BubbleSort(li)\n",
    "    print(li)"
   ]
  },
  {
   "cell_type": "markdown",
   "metadata": {},
   "source": [
    "选择排序（把最小的一个一个摆在前面）"
   ]
  },
  {
   "cell_type": "code",
   "execution_count": 3,
   "metadata": {},
   "outputs": [
    {
     "name": "stdout",
     "output_type": "stream",
     "text": [
      "[0, 4, 5, 5, 6, 7, 9, 12]\n"
     ]
    }
   ],
   "source": [
    "def SelectionSort(li: list) -> None:\n",
    "    for i in range(len(li) - 1):\n",
    "        for j in range(i + 1, len(li)):\n",
    "            if li[i] > li[j]:\n",
    "                li[i], li[j] = li[j], li[i]\n",
    "                \n",
    "    return \n",
    "    \n",
    "if __name__ == \"__main__\":\n",
    "    li = list(map(int, input().split()))\n",
    "    SelectionSort(li)\n",
    "    print(li)"
   ]
  },
  {
   "cell_type": "markdown",
   "metadata": {},
   "source": [
    "计数器排序（无重复数据）"
   ]
  },
  {
   "cell_type": "markdown",
   "metadata": {},
   "source": [
    "数据范围： 1~100\n"
   ]
  },
  {
   "cell_type": "code",
   "execution_count": 7,
   "metadata": {},
   "outputs": [
    {
     "name": "stdout",
     "output_type": "stream",
     "text": [
      "[0, 2, 4, 7, 8]\n"
     ]
    }
   ],
   "source": [
    "a = [0] * 110\n",
    "if __name__ == \"__main__\":\n",
    "    ans = []\n",
    "    \n",
    "    n = int(input())\n",
    "    for i in range(n):\n",
    "        x = int(input())\n",
    "        a[x] += 1\n",
    "    \n",
    "    for i in range(101):\n",
    "        if a[i] == 1:\n",
    "            ans.append(i)\n",
    "    print(ans)\n"
   ]
  },
  {
   "cell_type": "markdown",
   "metadata": {},
   "source": [
    "计数器排序（有重复数据）"
   ]
  },
  {
   "cell_type": "markdown",
   "metadata": {},
   "source": [
    "数据范围：1~100"
   ]
  },
  {
   "cell_type": "code",
   "execution_count": 8,
   "metadata": {},
   "outputs": [
    {
     "name": "stdout",
     "output_type": "stream",
     "text": [
      "[0, 6, 7, 9, 9]\n"
     ]
    }
   ],
   "source": [
    "a = [0] * 110\n",
    "if __name__ == \"__main__\":\n",
    "    ans = []\n",
    "    \n",
    "    n = int(input())\n",
    "    for i in range(n):\n",
    "        x = int(input())\n",
    "        a[x] += 1\n",
    "    \n",
    "    for i in range(101):\n",
    "        while a[i]:\n",
    "            ans.append(i)\n",
    "            a[i] -= 1\n",
    "    print(ans)"
   ]
  },
  {
   "cell_type": "markdown",
   "metadata": {},
   "source": [
    "插入排序"
   ]
  },
  {
   "cell_type": "markdown",
   "metadata": {},
   "source": [
    "for的步长可以为-1从而实现逆序输出"
   ]
  },
  {
   "cell_type": "code",
   "execution_count": 1,
   "metadata": {},
   "outputs": [],
   "source": [
    "def InsertionSort(li: list) -> None:\n",
    "    for i in range(1, len(li)):\n",
    "        tmp = li[i]\n",
    "        for j in range(0, i):\n",
    "            if li[i] < li[j]:\n",
    "                for k in range(i, j, -1):\n",
    "                    li[k] = li[k - 1]\n",
    "                li[j] = tmp\n",
    "                break\n",
    "    return\n",
    "if __name__ == \"__main__\": \n",
    "    li = list(map(int, input().split()))\n",
    "    InsertionSort(li)\n",
    "    print(li)"
   ]
  },
  {
   "cell_type": "markdown",
   "metadata": {},
   "source": [
    "桶排序"
   ]
  },
  {
   "cell_type": "code",
   "execution_count": null,
   "metadata": {},
   "outputs": [],
   "source": [
    "s = [[] for _ in range(10)]\n",
    "n = int(input())\n",
    "a = list(map(int, input().split()))\n",
    "for i in a:\n",
    "    id = i // 10\n",
    "    s[id].append(i) \n",
    "for i in s:\n",
    "#   print(i)\n",
    "    i.sort()\n",
    "    for j in i:\n",
    "        print(j, end =' ')"
   ]
  },
  {
   "cell_type": "markdown",
   "metadata": {},
   "source": [
    "前缀和"
   ]
  },
  {
   "cell_type": "markdown",
   "metadata": {},
   "source": [
    "关键是用已知的数组或列表得到一个求和列表然后再用加减法进行操作来得到区间和来降低时间复杂度"
   ]
  },
  {
   "cell_type": "markdown",
   "metadata": {},
   "source": [
    "例一：最大子段和"
   ]
  },
  {
   "cell_type": "markdown",
   "metadata": {},
   "source": [
    "https://leetcode.cn/problems/maximum-subarray/description/"
   ]
  },
  {
   "cell_type": "markdown",
   "metadata": {},
   "source": [
    "题解：https://leetcode.cn/problems/maximum-subarray/solutions/2533977/qian-zhui-he-zuo-fa-ben-zhi-shi-mai-mai-abu71/"
   ]
  },
  {
   "cell_type": "code",
   "execution_count": 14,
   "metadata": {},
   "outputs": [
    {
     "name": "stdout",
     "output_type": "stream",
     "text": [
      "6\n"
     ]
    }
   ],
   "source": [
    "\n",
    "tmp = 0\n",
    "sum = []\n",
    "mn = 0x3f3f3f3f\n",
    "ans = -0x3f3f3f3f\n",
    "j = 0\n",
    "for i in map(int, input().split()):\n",
    "    tmp += i\n",
    "    sum.append(tmp)\n",
    "    ans = max(ans, sum[j] - mn)\n",
    "    mn = min(mn, sum[j])\n",
    "    j += 1\n",
    "print(ans)\n",
    "\n"
   ]
  },
  {
   "cell_type": "markdown",
   "metadata": {},
   "source": [
    "例二：k倍区间"
   ]
  },
  {
   "cell_type": "markdown",
   "metadata": {},
   "source": [
    "同余定理的运用"
   ]
  },
  {
   "cell_type": "markdown",
   "metadata": {},
   "source": [
    "找到俩处前缀和 mod k 的值相同，用同余定理将其合并就能得到某一区间 mod k = 0"
   ]
  },
  {
   "cell_type": "markdown",
   "metadata": {},
   "source": [
    "https://leetcode.cn/problems/subarray-sums-divisible-by-k/"
   ]
  },
  {
   "cell_type": "markdown",
   "metadata": {},
   "source": [
    "题解：https://leetcode.cn/problems/subarray-sums-divisible-by-k/solutions/1079178/974-qian-zhui-he-he-ke-bei-k-zheng-chu-d-5ozp"
   ]
  },
  {
   "cell_type": "code",
   "execution_count": 1,
   "metadata": {},
   "outputs": [
    {
     "name": "stdout",
     "output_type": "stream",
     "text": [
      "4\n"
     ]
    }
   ],
   "source": [
    "k = int(input())\n",
    "li = list(map(int, input().split()))\n",
    "n = len(li)\n",
    "counter = int(1e5 + 10) * [0]\n",
    "sum = 0\n",
    "for i in range(n):\n",
    "    sum += li[i]\n",
    "    sum %= k # mod完之后不会影响下一次mod(去掉k的倍数区域)\n",
    "    counter[sum] += 1\n",
    "\n",
    "ans = 0\n",
    "for i in counter:\n",
    "    ans += i * (i - 1) / 2\n",
    "\n",
    "\n",
    "print(int(ans + counter[0]))\n",
    "\n",
    "# ans是俩个数以上的区间 counter[0] 是一个数的区间\n"
   ]
  },
  {
   "cell_type": "markdown",
   "metadata": {},
   "source": [
    "pythonic的方法"
   ]
  },
  {
   "cell_type": "markdown",
   "metadata": {},
   "source": [
    "哈希表 字典 集合\n"
   ]
  },
  {
   "cell_type": "code",
   "execution_count": null,
   "metadata": {},
   "outputs": [],
   "source": [
    "k = int(input())\n",
    "nums = list(map(int, input().split()))\n",
    "# 用hash表记录模值出现的次数\n",
    "records = dict({0: 1})\n",
    "prefix_sum = 0\n",
    "result = 0\n",
    "for num in nums:\n",
    "    # 求出每个元素对应的的前缀和\n",
    "    prefix_sum += num\n",
    "    # 求出每个元素的前缀和对K的模\n",
    "    mod = prefix_sum % k\n",
    "    # 模值出现的次数\n",
    "    count = records.get(mod, 0)\n",
    "    # 累加次数\n",
    "    result += count\n",
    "    # 更新hash表中保存的次数\n",
    "    records[mod] = count + 1\n",
    "\n",
    "print(result)\n",
    "\n"
   ]
  },
  {
   "cell_type": "code",
   "execution_count": null,
   "metadata": {},
   "outputs": [],
   "source": [
    "from collections import defaultdict\n",
    "class Solution:\n",
    "    def subarraysDivByK(self, nums: list[int], k: int) -> int:\n",
    "        presum = 0\n",
    "        map = defaultdict(int)  \n",
    "        map[0] = 1 \n",
    "        ans = 0\n",
    "\n",
    "        for i, num in enumerate(nums):\n",
    "            presum += num \n",
    "            remaining = presum % (k) \n",
    "            ans  += map[remaining]\n",
    "            map[remaining] += 1\n",
    "                \n",
    "        return ans \n"
   ]
  },
  {
   "cell_type": "code",
   "execution_count": null,
   "metadata": {},
   "outputs": [],
   "source": [
    "from collections import defaultdict\n",
    "class Solution:\n",
    "    def subarraysDivByK(self, nums: list[int], k: int) -> int:\n",
    "        d = defaultdict(int)\n",
    "        count = 0\n",
    "        remainder = 0\n",
    "        for num in nums:\n",
    "            remainder = (remainder + num) % k\n",
    "            if remainder==0:\n",
    "                count += 1\n",
    "            if remainder in d:\n",
    "                count += d[remainder]\n",
    "            d[remainder] += 1\n",
    "        return count"
   ]
  },
  {
   "cell_type": "markdown",
   "metadata": {},
   "source": [
    "练习：数量记录1（连续的0）"
   ]
  },
  {
   "cell_type": "markdown",
   "metadata": {},
   "source": [
    "关键在于求从i开始连续k个数中1的数量的最小值，即[i, i + k - 1]区间和的最小值"
   ]
  },
  {
   "cell_type": "code",
   "execution_count": 3,
   "metadata": {},
   "outputs": [
    {
     "name": "stdout",
     "output_type": "stream",
     "text": [
      "0\n"
     ]
    }
   ],
   "source": [
    "n, k = map(int, input().split())\n",
    "li = list(map(int, input()))\n",
    "li = [0] + li\n",
    "sum = [0] * int(1e5 + 10)\n",
    "for i in range(1, n + 1):\n",
    "    sum[i] = sum[i - 1] + li[i]\n",
    "\n",
    "ans = 0x7f7f7f7f\n",
    "for i in range(1, n - k + 1):\n",
    "    ans = min(ans, sum[i + k - 1] - sum[i - 1]) # 包括i要往后求k-1个数的和\n",
    "    \n",
    "print(ans)\n"
   ]
  },
  {
   "cell_type": "markdown",
   "metadata": {},
   "source": [
    "练习：数量记录2（新年灯会）"
   ]
  },
  {
   "cell_type": "code",
   "execution_count": 11,
   "metadata": {},
   "outputs": [
    {
     "name": "stdout",
     "output_type": "stream",
     "text": [
      "1\n"
     ]
    }
   ],
   "source": [
    "n, m, p = map(int, input().split())\n",
    "a = [0] * int(1e5 + 10)\n",
    "\n",
    "for i in map(int, input().split()):\n",
    "    a[i] = 1\n",
    "\n",
    "sum = [0] * int(1e5 + 10)\n",
    "\n",
    "for i in range(1, n + 1):\n",
    "    sum[i] = sum[i - 1] + a[i]\n",
    "ans = 0x3f3f3f3f\n",
    "\n",
    "for i in range(1, n - m + 1):\n",
    "    ans = min(ans, sum[i + m] - sum[i])\n",
    "\n",
    "print(ans)\n",
    "\n",
    "\n",
    "    \n"
   ]
  },
  {
   "cell_type": "markdown",
   "metadata": {},
   "source": [
    "差分"
   ]
  },
  {
   "cell_type": "markdown",
   "metadata": {},
   "source": [
    "对指定区间进行m次操作 "
   ]
  },
  {
   "cell_type": "markdown",
   "metadata": {},
   "source": [
    "操作为对下标l到r的区间加c"
   ]
  },
  {
   "cell_type": "code",
   "execution_count": 12,
   "metadata": {},
   "outputs": [
    {
     "name": "stdout",
     "output_type": "stream",
     "text": [
      "3 4 5 3 4 2 "
     ]
    }
   ],
   "source": [
    "li = list(map(int, input().split()))\n",
    "lg = len(li)\n",
    "li = [0] + li # 空出第一个位置使d[1]不会超限\n",
    "m = int(input())\n",
    "d = int(1e5 + 10) * [0]  # 差分数组\n",
    "\n",
    "for i in range(1, lg + 1):\n",
    "    d[i] = (li[i] - li[i - 1])\n",
    "\n",
    "while m > 0:\n",
    "    l, r, c = map(int, input().split())\n",
    "    d[l] += c\n",
    "    d[r + 1] -= c\n",
    "    m -= 1\n",
    "\n",
    "for i in range(1, len(li)):\n",
    "    li[i] = li[i - 1] + d[i]\n",
    "    print(li[i], end=\" \")\n",
    "\n",
    "    \n",
    "    \n",
    "    \n"
   ]
  },
  {
   "cell_type": "markdown",
   "metadata": {},
   "source": [
    "增减序列\n"
   ]
  },
  {
   "cell_type": "markdown",
   "metadata": {},
   "source": [
    "通过对一个序列的任意区间加1减1，问最少几次可以将数列中的数变为全部一样，变成一样后数组有多少种情况"
   ]
  },
  {
   "cell_type": "code",
   "execution_count": 13,
   "metadata": {},
   "outputs": [
    {
     "name": "stdout",
     "output_type": "stream",
     "text": [
      "1\n",
      "2\n"
     ]
    }
   ],
   "source": [
    "li = list(map(int, input().split()))\n",
    "lg = len(li)\n",
    "li = [0] + li\n",
    "d = [0] * int(1e5 + 10)\n",
    "for i in range(1, lg + 1):\n",
    "    d[i] = li[i] - li[i - 1]\n",
    "\n",
    "p = 0 # 记录差分数组中除第一位以外的正值\n",
    "q = 0 # 记录差分数组中除第一位以外的负值\n",
    "\n",
    "for i in range(2, lg + 1):\n",
    "    if d[i] > 0:\n",
    "        p += d[i]\n",
    "    else:\n",
    "        q -= d[i]\n",
    "\n",
    "print(max(p,q)) \n",
    "# 正负相消，剩下的一个一个消\n",
    "# 剩下的e.g 3 0 0 0 2 0\n",
    "print(abs(p - q) + 1) \n",
    "# 2有三种消法 （其他情况同理）\n",
    "# 每一次可以选择与第一位消 或 与后面的消（最后一位后面）"
   ]
  },
  {
   "cell_type": "markdown",
   "metadata": {},
   "source": [
    "练习：安迪种树"
   ]
  },
  {
   "cell_type": "code",
   "execution_count": 1,
   "metadata": {},
   "outputs": [
    {
     "name": "stdout",
     "output_type": "stream",
     "text": [
      "1 2 3 1 0 0 0 0 0 0 "
     ]
    }
   ],
   "source": [
    "n, q = map(int, input().split())\n",
    "\n",
    "li = [0] * (n + 1)\n",
    "d = [0] * int(1e5 + 10)\n",
    "for i in range(1, n + 1):\n",
    "    d[i] = li[i] - li[i - 1]\n",
    "while q > 0:\n",
    "    l, r = map(int, input().split())\n",
    "    d[l] += 1\n",
    "    d[r + 1] -= 1\n",
    "    q -= 1\n",
    "\n",
    "for i in range(1, n + 1):\n",
    "    li[i] = d[i] + li[i - 1]\n",
    "    print(li[i], end = \" \")"
   ]
  },
  {
   "cell_type": "markdown",
   "metadata": {},
   "source": [
    "练习：数列交换2（缩进对齐）"
   ]
  },
  {
   "cell_type": "code",
   "execution_count": 4,
   "metadata": {},
   "outputs": [
    {
     "name": "stdout",
     "output_type": "stream",
     "text": [
      "2\n"
     ]
    }
   ],
   "source": [
    "n = int(input())\n",
    "a = [0] * int(1e5 + 10)\n",
    "d = [0] * int(1e5 + 10)\n",
    "for i in range(n):\n",
    "    x, y = map(int, input().split())\n",
    "    a[i + 1] = y - x\n",
    "\n",
    "for i in range(1, n + 1):\n",
    "    d[i] = a[i] - a[i - 1]\n",
    "\n",
    "p = 0\n",
    "q = 0\n",
    "for i in range(1, n + 1):\n",
    "    if d[i] > 0:\n",
    "        p += d[i]\n",
    "    else:\n",
    "        q -= d[i]\n",
    "\n",
    "print(max(p , q))\n",
    "\n",
    "    "
   ]
  },
  {
   "cell_type": "markdown",
   "metadata": {},
   "source": [
    "练习：数列交换3（积木大赛）\n"
   ]
  },
  {
   "cell_type": "code",
   "execution_count": 5,
   "metadata": {},
   "outputs": [
    {
     "name": "stdout",
     "output_type": "stream",
     "text": [
      "5\n"
     ]
    }
   ],
   "source": [
    "n = int(input())\n",
    "a = list(map(int, input().split()))\n",
    "a = [0] + a\n",
    "d = [0]\n",
    "for i in range(1, n + 1):\n",
    "    d.append(a[i] - a[i - 1])\n",
    "p = 0\n",
    "q = 0\n",
    "for i in range(1, n + 1):\n",
    "    if d[i] > 0:\n",
    "        p += d[i]\n",
    "    else:\n",
    "        q -= d[i]\n",
    "\n",
    "print(max(p, q))\n",
    "\n",
    "\n",
    "    "
   ]
  },
  {
   "cell_type": "markdown",
   "metadata": {},
   "source": [
    "字符迁移"
   ]
  },
  {
   "cell_type": "code",
   "execution_count": null,
   "metadata": {},
   "outputs": [],
   "source": [
    "n, q = map(int,input().split())\n",
    "a='a' + input()\n",
    "# 差分数组\n",
    "c=[0] * (n + 10)\n",
    "for i in range(1,n + 1):\n",
    "    c[i] = ord(a[i]) - ord(a[i - 1])\n",
    "\n",
    "for _ in range(q):\n",
    "    l, r, k = map(int,input().split())\n",
    "    c[l] += k\n",
    "   \n",
    "    c[r + 1] -= k\n",
    "   \n",
    "s = ''\n",
    "char = 0\n",
    "for i in range(1,n + 1):\n",
    "    #print(c[i])\n",
    "    char += c[i]\n",
    "    s += chr(char % 26 + ord('a'))\n",
    "print(s)"
   ]
  },
  {
   "cell_type": "code",
   "execution_count": 8,
   "metadata": {},
   "outputs": [
    {
     "name": "stdout",
     "output_type": "stream",
     "text": [
      "abcde\n"
     ]
    }
   ],
   "source": [
    "\n",
    "n, q = map(int, input().split())\n",
    "s = [0]\n",
    "\n",
    "d = [0] * int(2e5 + 10)\n",
    "for i in map(str, input()):\n",
    "    s.append(ord(i))\n",
    "# sc = s   这样会直接把sc指向s ，所以sc是跟着s变的 \n",
    "sc = s.copy() # or sc = s[:]\n",
    "\n",
    "\n",
    "for i in range(1, n + 1):\n",
    "    d[i] = s[i] - s[i - 1]\n",
    "\n",
    "\n",
    "for i in range(q):\n",
    "    l, r, k = map(int, input().split())\n",
    "\n",
    "    k %= 26\n",
    "    d[l] += k  \n",
    "    d[r + 1] -= k\n",
    "  \n",
    "for i in range(1, n + 1):\n",
    "    s[i] = d[i] + s[i - 1]\n",
    "\n",
    "\n",
    "c = int(2e5 + 10) * [0]\n",
    "for i in range(1, n + 1):  \n",
    "    c[i] = (s[i] - sc[i]) % 26\n",
    "   \n",
    "    if c[i] + sc[i] > 122:\n",
    "        s[i] = chr((sc[i] + c[i]) % 122 + 96)\n",
    "    else:\n",
    "        s[i] = chr(sc[i] + c[i]) \n",
    "   \n",
    "res = \"\"\n",
    "for i in range(1, n + 1):\n",
    "    res += s[i]\n",
    "print(res)\n"
   ]
  },
  {
   "cell_type": "markdown",
   "metadata": {},
   "source": [
    "模拟赛：贪心"
   ]
  },
  {
   "cell_type": "markdown",
   "metadata": {},
   "source": [
    "https://www.lanqiao.cn/problems/16981/learning/?contest_id=171"
   ]
  },
  {
   "cell_type": "code",
   "execution_count": 1,
   "metadata": {},
   "outputs": [],
   "source": [
    " \n",
    "\n",
    "n = int(input())\n",
    "a = list(map(int, input().split()))\n",
    "b = list(map(int, input().split()))\n",
    "a.sort()\n",
    "b.sort()\n",
    "i, j, ans = 0, 0, 0\n",
    "while i < n:\n",
    "    if 2 * a[i] > b[j]:\n",
    "        i, j, ans = i + 1, j + 1, ans + 1\n",
    "    else:\n",
    "        i += 1\n",
    "print(ans)"
   ]
  },
  {
   "cell_type": "markdown",
   "metadata": {},
   "source": [
    "字典序"
   ]
  },
  {
   "cell_type": "markdown",
   "metadata": {},
   "source": [
    "二进制王国"
   ]
  },
  {
   "cell_type": "code",
   "execution_count": 4,
   "metadata": {},
   "outputs": [
    {
     "name": "stdout",
     "output_type": "stream",
     "text": [
      "10110111\n"
     ]
    }
   ],
   "source": [
    "# abc -> abccba\n",
    "# ab -> abba\n",
    "# abba > abccba\n",
    "# ab < abc\n",
    "# 因此可以实现拼接后的比较\n",
    "n = int(input())\n",
    "a = [input() for _ in range(n)]\n",
    "ans = sorted(a, key=lambda x: x + x[::-1]) # x[::-1]为反转后的string\n",
    "result = \"\".join(ans)\n",
    "print(result)\n",
    "\n"
   ]
  },
  {
   "cell_type": "code",
   "execution_count": 6,
   "metadata": {},
   "outputs": [
    {
     "name": "stdout",
     "output_type": "stream",
     "text": [
      "000101111\n"
     ]
    }
   ],
   "source": [
    "from functools import cmp_to_key # cmp函数的库\n",
    "def cmp(s1,s2):\n",
    "  if s1 + s2 <= s2 + s1: # 直接比较拼接后的\n",
    "    return -1\n",
    "  else:\n",
    "    return 1\n",
    "n = int(input())\n",
    "a = []\n",
    "for i in range(n):\n",
    "  a.append(input())\n",
    "a.sort(key=cmp_to_key(cmp))\n",
    "print(''.join(a)) # 连接数组里的字符"
   ]
  },
  {
   "cell_type": "markdown",
   "metadata": {},
   "source": [
    "动态规划DP"
   ]
  },
  {
   "cell_type": "markdown",
   "metadata": {},
   "source": [
    "蓝桥模拟赛：小蓝的跳跃"
   ]
  },
  {
   "cell_type": "code",
   "execution_count": 5,
   "metadata": {},
   "outputs": [
    {
     "name": "stdout",
     "output_type": "stream",
     "text": [
      "False\n"
     ]
    }
   ],
   "source": [
    "t = int(input())\n",
    "n, x = map(int, input().split())\n",
    "while t > 0:\n",
    "    a = [map(int, input().split()) for _ in range(n)]\n",
    "    a = [0] + a\n",
    "    \n",
    "    \n",
    "    t -= 1\n",
    "\n",
    "\n",
    "\n"
   ]
  }
 ],
 "metadata": {
  "kernelspec": {
   "display_name": "base",
   "language": "python",
   "name": "python3"
  },
  "language_info": {
   "codemirror_mode": {
    "name": "ipython",
    "version": 3
   },
   "file_extension": ".py",
   "mimetype": "text/x-python",
   "name": "python",
   "nbconvert_exporter": "python",
   "pygments_lexer": "ipython3",
   "version": "3.9.13"
  }
 },
 "nbformat": 4,
 "nbformat_minor": 2
}

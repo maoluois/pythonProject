{
 "cells": [
  {
   "cell_type": "markdown",
   "metadata": {},
   "source": [
    "常见字符串操作"
   ]
  },
  {
   "cell_type": "code",
   "execution_count": 3,
   "metadata": {},
   "outputs": [
    {
     "name": "stdout",
     "output_type": "stream",
     "text": [
      "1\n"
     ]
    }
   ],
   "source": [
    "\n",
    "a = \" aasdasda \"\n",
    "print(a.index(\"a\"))\n"
   ]
  },
  {
   "cell_type": "code",
   "execution_count": 4,
   "metadata": {},
   "outputs": [
    {
     "data": {
      "text/plain": [
       "'a-4-5'"
      ]
     },
     "execution_count": 4,
     "metadata": {},
     "output_type": "execute_result"
    }
   ],
   "source": [
    "c = \"a-4-5\"\n",
    "b = [\"a\",\"4\",\"5\"]\n",
    "\"-\".join(b) # 将列表加入特定字符连接并转化成字符串\n",
    "\n"
   ]
  },
  {
   "cell_type": "markdown",
   "metadata": {},
   "source": [
    "记得加括号（方法的使用需要加括号）"
   ]
  },
  {
   "cell_type": "code",
   "execution_count": 5,
   "metadata": {},
   "outputs": [
    {
     "data": {
      "text/plain": [
       "' AASDASDA '"
      ]
     },
     "execution_count": 5,
     "metadata": {},
     "output_type": "execute_result"
    }
   ],
   "source": [
    "\n",
    "a.lower()\n",
    "a.upper()"
   ]
  },
  {
   "cell_type": "code",
   "execution_count": 6,
   "metadata": {},
   "outputs": [
    {
     "data": {
      "text/plain": [
       "2"
      ]
     },
     "execution_count": 6,
     "metadata": {},
     "output_type": "execute_result"
    }
   ],
   "source": [
    "a.count(\"s\")"
   ]
  },
  {
   "cell_type": "code",
   "execution_count": 7,
   "metadata": {},
   "outputs": [
    {
     "data": {
      "text/plain": [
       "'aasdasda'"
      ]
     },
     "execution_count": 7,
     "metadata": {},
     "output_type": "execute_result"
    }
   ],
   "source": [
    "a.strip() # 去除开头和结尾的特定字符"
   ]
  },
  {
   "cell_type": "code",
   "execution_count": 8,
   "metadata": {},
   "outputs": [
    {
     "data": {
      "text/plain": [
       "'aasdasda'"
      ]
     },
     "execution_count": 8,
     "metadata": {},
     "output_type": "execute_result"
    }
   ],
   "source": [
    "a = \"00aasdasda\"\n",
    "a.lstrip(\"0\") # 去除开头的字符"
   ]
  },
  {
   "cell_type": "code",
   "execution_count": 1,
   "metadata": {},
   "outputs": [
    {
     "name": "stdout",
     "output_type": "stream",
     "text": [
      "a b c\n"
     ]
    }
   ],
   "source": [
    "b = input()\n",
    "b = b.split()\n",
    "print(b)"
   ]
  },
  {
   "cell_type": "code",
   "execution_count": null,
   "metadata": {},
   "outputs": [],
   "source": [
    "my_string = \"Hello, World!\"\n",
    "# reverse sorted 类似这种用法\n",
    "# 判断字符串是否以 \"World!\" 结尾\n",
    "if my_string.endswith(\"World!\"):\n",
    "    print(\"The string ends with 'World!'\")\n",
    "else:\n",
    "    print(\"The string does not end with 'World!'\")\n"
   ]
  },
  {
   "cell_type": "markdown",
   "metadata": {},
   "source": [
    "正则表达式"
   ]
  },
  {
   "cell_type": "markdown",
   "metadata": {},
   "source": [
    "一般先切分，比较好匹配\n"
   ]
  },
  {
   "cell_type": "code",
   "execution_count": 2,
   "metadata": {},
   "outputs": [
    {
     "name": "stdout",
     "output_type": "stream",
     "text": [
      "找到了\n",
      "['大', '大']\n"
     ]
    }
   ],
   "source": [
    "import re\n",
    "\n",
    "a = \"在默认匹配模式下大写字母B无法匹配小写字母b而在 忽略大小写 模式下是可以的\"\n",
    "pattern = r\"大\"\n",
    "result = re.findall(pattern,a) # 全部找到\n",
    "if len(result) > 0:\n",
    "    print(\"找到了\")\n",
    "print(result)"
   ]
  },
  {
   "cell_type": "code",
   "execution_count": 10,
   "metadata": {},
   "outputs": [
    {
     "name": "stdout",
     "output_type": "stream",
     "text": [
      "None\n"
     ]
    }
   ],
   "source": [
    "a = \"在默认匹配模式下大写字母B无法匹配小写字母b而在 忽略大小写 模式下是可以的\"\n",
    "pattern = r\"(20|19)\\d{2}[-.](\\d{1,2})[-.]\\d{1,2}\"\n",
    "result = re.match(pattern,a) # 只匹配从头开始的，开头就要符合否则不返回\n",
    "print(result)\n",
    "\n"
   ]
  },
  {
   "cell_type": "code",
   "execution_count": 11,
   "metadata": {},
   "outputs": [
    {
     "name": "stdout",
     "output_type": "stream",
     "text": [
      "2018-12-9\n",
      "1998-06-08\n",
      "2013.09.01\n"
     ]
    }
   ],
   "source": [
    "a = \"m2018-12-9下大写字母B无法匹配小写字1998-06-08母b而在 忽略2013.09.01大小写 模式下是可以的。\"\n",
    "pattern = r\"(20|19)\\d{2}[-.](\\d{1,2})[-.]\\d{1,2}\"\n",
    "find = re.finditer(pattern, a)\n",
    "for find_result in find:\n",
    "\n",
    "    print(find_result.group(0))\n",
    "    # print(find_result.group(1))\n",
    "    # print(find_result.group(2))\n",
    "\n",
    "\n"
   ]
  },
  {
   "cell_type": "markdown",
   "metadata": {},
   "source": [
    "练习一        \n",
    "\n",
    "提取出中间的 字段名 双引号中间的"
   ]
  },
  {
   "cell_type": "code",
   "execution_count": 12,
   "metadata": {},
   "outputs": [
    {
     "name": "stdout",
     "output_type": "stream",
     "text": [
      "['数据年月', '月份', '数据年月', '本月数(指标值)', '销售费用', '财务数据', '公司名称', '数数据年月', '指标名称', '月份', '月份']\n"
     ]
    }
   ],
   "source": [
    "import re\n",
    "messeage = \"\"\"SELECT DATE_TRUNC('month', \"数据年月\") AS \"月份\",\"数据年月\", SUM(\"本月数(指标值)\") AS \"销售费用\" FROM \"财务数据\" WHERE \"公司名称\" = '招商银行股份有限公司' AND DATE_PART('year', \"数数据年月\") = 2019 AND \"指标名称\" = '销售费用' GROUP \n",
    "BY \"月份\" ORDER BY \"月份\" ASC ;\"\"\"\n",
    "# 三个双引号里面就可以包括各种引号\n",
    "# pattern = r'\"([^\"]*)\"'\n",
    "# pattern = r\"\\\"([]*)\\\"\"         # 这样为什么不行？\n",
    "pattern = r\"\\\"([^\\\"]*)\\\"\"    # 中间没有双引号可以保证是最近的俩个双引号包含的字符\n",
    "find = re.findall(pattern,messeage)\n",
    "# print(messeage)\n",
    "print(find)"
   ]
  },
  {
   "cell_type": "markdown",
   "metadata": {},
   "source": [
    "练习二 \n",
    "\n",
    "提取中字段名，前面带AS的不要"
   ]
  },
  {
   "cell_type": "code",
   "execution_count": 13,
   "metadata": {},
   "outputs": [
    {
     "name": "stdout",
     "output_type": "stream",
     "text": [
      "['数据年月', '', '数据年月', '本月数(指标值)', '', '财务数据', '公司名称', '数数据年月', '指标名称', '', '']\n"
     ]
    }
   ],
   "source": [
    "messeage = \"\"\"SELECT DATE_TRUNC('month', \"数据年月\") AS \"月份\",\"数据年月\", SUM(\"本月数(指标值)\") AS \"销售费用\" FROM \"财务数据\" WHERE \"公司名称\" = '招商银行股份有限公司' AND DATE_PART('year', \"数数据年月\") = 2019 AND \"指标名称\" = '销售费用' GROUP \n",
    "BY \"月份\" ORDER BY \"月份\" ASC ;\"\"\"\n",
    "pattern = r\"AS \\\"([^\\\"]*)\\\"\"\n",
    "find = re.findall(pattern, messeage)\n",
    "for i in find:\n",
    "    if i in messeage:\n",
    "        messeage = messeage.replace(f\"{i}\", \"\") # 怎么直接让他消失？\n",
    "pattern1 = r\"\\\"([^\\\"]*)\\\"\"\n",
    "find1 = re.findall(pattern1,messeage)\n",
    "print(find1)  # 在列表中移除空格？"
   ]
  },
  {
   "cell_type": "markdown",
   "metadata": {},
   "source": [
    "一般使用finditer方法或search方法 可以细化一长段，取出一个括号的"
   ]
  },
  {
   "cell_type": "code",
   "execution_count": 14,
   "metadata": {},
   "outputs": [
    {
     "name": "stdout",
     "output_type": "stream",
     "text": [
      "[' o', 'kojbk']\n"
     ]
    }
   ],
   "source": [
    "a = \"ASo oASokojbk\"\n",
    "pattern = r\"[^AS]o[a-z]*\"\n",
    "find = re.findall(pattern, a)\n",
    "print(find)"
   ]
  },
  {
   "cell_type": "code",
   "execution_count": 15,
   "metadata": {},
   "outputs": [
    {
     "name": "stdout",
     "output_type": "stream",
     "text": [
      "['数据年月', ',', ', SUM(', ') AS ', ' FROM ', ' WHERE ', \" = '招商银行股份有限公司' AND DATE_PART('year', \", ') = 2019 AND ', \" = '销售费用' GROUP \\nBY \", ' ORDER BY ']\n"
     ]
    }
   ],
   "source": [
    "messeage = \"\"\"SELECT DATE_TRUNC('month', \"数据年月\") AS \"月份\",\"数据年月\", SUM(\"本月数(指标值)\") AS \"销售费用\" FROM \"财务数据\" WHERE \"公司名称\" = '招商银行股份有限公司' AND DATE_PART('year', \"数数据年月\") = 2019 AND \"指标名称\" = '销售费用' GROUP \n",
    "BY \"月份\" ORDER BY \"月份\" ASC ;\"\"\"\n",
    "pattern = r\"(?<!AS\\s)\\\"([^\\\"]*)\\\"\"\n",
    "find = re.findall(pattern, messeage)\n",
    "print(find)\n",
    "\n"
   ]
  },
  {
   "cell_type": "markdown",
   "metadata": {},
   "source": [
    "字符串操作：replace"
   ]
  },
  {
   "cell_type": "code",
   "execution_count": 15,
   "metadata": {},
   "outputs": [
    {
     "name": "stdout",
     "output_type": "stream",
     "text": [
      "ASo oASokojbk\n"
     ]
    }
   ],
   "source": [
    "a = \"ASo oASokojbk\"\n",
    "a = a.replace(\" \",\"\")\n",
    "print(a)"
   ]
  },
  {
   "cell_type": "markdown",
   "metadata": {},
   "source": [
    "格式化字符操作format"
   ]
  },
  {
   "cell_type": "code",
   "execution_count": 2,
   "metadata": {},
   "outputs": [
    {
     "name": "stdout",
     "output_type": "stream",
     "text": [
      "12345678\n",
      "12,345,678\n",
      "预测 已完成预测。准确性 (Accuracy): 1234567800.00%\n"
     ]
    }
   ],
   "source": [
    "num = 12345678\n",
    "print(format(num))\n",
    "print(format(num, ','))\n",
    "print(\"预测\", \"已完成预测。准确性 (Accuracy): {:.2f}%\".format(num * 100))"
   ]
  },
  {
   "cell_type": "code",
   "execution_count": 12,
   "metadata": {},
   "outputs": [
    {
     "name": "stdout",
     "output_type": "stream",
     "text": [
      "pi的值精确到小数点后俩位是3.14\n",
      "pi的值精确到小数点后俩位是3.14\n"
     ]
    }
   ],
   "source": [
    "pi = 3.14159\n",
    "print(\"pi的值精确到小数点后俩位是{:.2f}\".format(pi))\n",
    "print(\"pi的值精确到小数点后俩位是%.2f\" % (pi))"
   ]
  }
 ],
 "metadata": {
  "kernelspec": {
   "display_name": "base",
   "language": "python",
   "name": "python3"
  },
  "language_info": {
   "codemirror_mode": {
    "name": "ipython",
    "version": 3
   },
   "file_extension": ".py",
   "mimetype": "text/x-python",
   "name": "python",
   "nbconvert_exporter": "python",
   "pygments_lexer": "ipython3",
   "version": "3.9.18"
  }
 },
 "nbformat": 4,
 "nbformat_minor": 2
}

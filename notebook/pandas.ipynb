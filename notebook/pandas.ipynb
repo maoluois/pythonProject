{
 "cells": [
  {
   "cell_type": "markdown",
   "metadata": {},
   "source": [
    "pandas函数大全"
   ]
  },
  {
   "cell_type": "markdown",
   "metadata": {},
   "source": [
    "读取数据"
   ]
  },
  {
   "cell_type": "code",
   "execution_count": 2,
   "metadata": {},
   "outputs": [
    {
     "name": "stdout",
     "output_type": "stream",
     "text": [
      "        0         1         2         3         4         5         6    \\\n",
      "0 -5.354839 -4.064516 -5.612903 -7.204301 -6.989247 -6.258065 -5.870968   \n",
      "1  7.012987  6.450216  5.411255  6.103896  6.536797  6.969697  5.887446   \n",
      "2  1.000000  1.000000  1.000000  1.000000  1.000000  1.000000  1.000000   \n",
      "\n",
      "        7         8         9    ...       153       154       155       156  \\\n",
      "0 -3.849462 -5.397849 -7.290323  ... -2.559140 -2.860215 -2.645161 -2.817204   \n",
      "1  4.285714  3.463203  3.463203  ... -2.337662  5.930736  8.181818  5.367965   \n",
      "2  1.000000  1.000000  1.000000  ...  0.000000  1.000000  1.000000  0.000000   \n",
      "\n",
      "        157       158       159       160       161       162  \n",
      "0 -2.301075 -2.000000 -0.666667  0.967742  2.903226  5.139785  \n",
      "1  4.632035  3.549784  3.549784  3.376623  3.376623  3.116883  \n",
      "2  0.000000  0.000000  0.000000  0.000000  0.000000  0.000000  \n",
      "\n",
      "[3 rows x 163 columns]\n"
     ]
    }
   ],
   "source": [
    "import pandas as pd\n",
    "\n",
    "data = pd.read_csv(\"C:\\CodeData\\pythonProject\\小A的任务\\田字型散点.csv\", header = None)\n",
    "# 电脑默认是有标签行的会把第一行当标签行\n",
    "# header=None 就告诉电脑没有标签行，就会将0，1，2等索引当作标签行\n",
    "print(data)"
   ]
  },
  {
   "cell_type": "markdown",
   "metadata": {},
   "source": [
    "读取一行或者一列的数据"
   ]
  },
  {
   "cell_type": "code",
   "execution_count": 9,
   "metadata": {},
   "outputs": [
    {
     "name": "stdout",
     "output_type": "stream",
     "text": [
      "0     -5.354839\n",
      "1     -4.064516\n",
      "2     -5.612903\n",
      "3     -7.204301\n",
      "4     -6.989247\n",
      "         ...   \n",
      "158   -2.000000\n",
      "159   -0.666667\n",
      "160    0.967742\n",
      "161    2.903226\n",
      "162    5.139785\n",
      "Name: 0, Length: 163, dtype: float64\n",
      "0      7.012987\n",
      "1      6.450216\n",
      "2      5.411255\n",
      "3      6.103896\n",
      "4      6.536797\n",
      "         ...   \n",
      "158    3.549784\n",
      "159    3.549784\n",
      "160    3.376623\n",
      "161    3.376623\n",
      "162    3.116883\n",
      "Name: 1, Length: 163, dtype: float64\n"
     ]
    }
   ],
   "source": [
    "X = data.iloc[0]\n",
    "Y = data.iloc[1]\n",
    "print(X)\n",
    "print(Y)\n"
   ]
  },
  {
   "cell_type": "markdown",
   "metadata": {},
   "source": [
    "输出行数"
   ]
  },
  {
   "cell_type": "code",
   "execution_count": 10,
   "metadata": {},
   "outputs": [
    {
     "name": "stdout",
     "output_type": "stream",
     "text": [
      "3\n"
     ]
    }
   ],
   "source": [
    "print(len(data))"
   ]
  },
  {
   "cell_type": "markdown",
   "metadata": {},
   "source": [
    "输出列数"
   ]
  },
  {
   "cell_type": "code",
   "execution_count": 15,
   "metadata": {},
   "outputs": [
    {
     "name": "stdout",
     "output_type": "stream",
     "text": [
      "3\n",
      "0   -5.354839\n",
      "1    7.012987\n",
      "2    1.000000\n",
      "Name: 0, dtype: float64\n",
      "163\n"
     ]
    }
   ],
   "source": [
    "import pandas as pd\n",
    "\n",
    "data = pd.read_csv(\"D:\\ProgramData\\pythonProject\\小A的任务\\田字型散点.csv\", header = None)\n",
    "print(len(data[0])) # 没用iloc 的话就使默认是对应某一列\n",
    "print(data[0])\n",
    "print(len(data.iloc[0])) # 特定某一行的列数"
   ]
  }
 ],
 "metadata": {
  "kernelspec": {
   "display_name": "base",
   "language": "python",
   "name": "python3"
  },
  "language_info": {
   "codemirror_mode": {
    "name": "ipython",
    "version": 3
   },
   "file_extension": ".py",
   "mimetype": "text/x-python",
   "name": "python",
   "nbconvert_exporter": "python",
   "pygments_lexer": "ipython3",
   "version": "3.9.13"
  }
 },
 "nbformat": 4,
 "nbformat_minor": 2
}

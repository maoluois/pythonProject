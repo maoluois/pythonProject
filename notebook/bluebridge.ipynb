{
 "cells": [
  {
   "cell_type": "markdown",
   "metadata": {},
   "source": [
    "1.将多位数转化为列表中的数"
   ]
  },
  {
   "cell_type": "markdown",
   "metadata": {},
   "source": [
    "蓝桥杯的常用技巧"
   ]
  },
  {
   "cell_type": "code",
   "execution_count": 2,
   "metadata": {},
   "outputs": [
    {
     "name": "stdout",
     "output_type": "stream",
     "text": [
      "[1, 2, 3, 4, 5, 6, 7, 8, 9]\n"
     ]
    }
   ],
   "source": [
    "num = 123456789\n",
    "num = str(num)\n",
    "a = list(map(int, num))\n",
    "print(a)"
   ]
  },
  {
   "cell_type": "code",
   "execution_count": 9,
   "metadata": {},
   "outputs": [
    {
     "name": "stdout",
     "output_type": "stream",
     "text": [
      "[1, 2, 3, 4, 5, 6, 7, 8, 9]\n"
     ]
    }
   ],
   "source": [
    "num = 123456789\n",
    "a = []\n",
    "while num:\n",
    "    a.append(num % 10)\n",
    "    num //= 10\n",
    "a.reverse()\n",
    "print(a)\n",
    "    \n"
   ]
  },
  {
   "cell_type": "code",
   "execution_count": 10,
   "metadata": {},
   "outputs": [
    {
     "name": "stdout",
     "output_type": "stream",
     "text": [
      "[1, 3, 5, 7, 9, 8, 6, 4, 2]\n"
     ]
    }
   ],
   "source": [
    "num = 123456789\n",
    "a = []\n",
    "while num:\n",
    "    a.append(num % 10)\n",
    "    num //= 10\n",
    "    a.reverse()\n",
    "print(a)\n",
    "# 特殊的，将奇数放在了前面\n"
   ]
  },
  {
   "cell_type": "markdown",
   "metadata": {},
   "source": [
    "填空题可以考虑数学方法直接解（14B1）"
   ]
  },
  {
   "cell_type": "markdown",
   "metadata": {},
   "source": [
    "Tips: 填空题可以暴力枚举，思路不清楚也没关系可以先试试"
   ]
  },
  {
   "cell_type": "markdown",
   "metadata": {},
   "source": [
    "集合中搜索某一特定子集（特定数字序列）"
   ]
  },
  {
   "cell_type": "code",
   "execution_count": null,
   "metadata": {},
   "outputs": [],
   "source": [
    "def find(num):\n",
    "    num = str(num)\n",
    "    a = 0\n",
    "    flag = 0\n",
    "    while a < 8:\n",
    "        if flag == 0 and num[a] == '2':\n",
    "            flag = 1\n",
    "        if flag == 1 and num[a] == '0':\n",
    "            flag = 2\n",
    "        if flag == 2 and num[a] == '2':\n",
    "            flag = 3\n",
    "        if flag == 3 and num[a] == '3':\n",
    "            return 1\n",
    "        a += 1\n",
    "    return 0\n",
    "\n",
    "find(20230000)"
   ]
  },
  {
   "cell_type": "code",
   "execution_count": null,
   "metadata": {},
   "outputs": [],
   "source": [
    "goal = ['2', '0', '2', '3']\n",
    "def baohan(n):\n",
    "    s = str(n)\n",
    "    j = 0\n",
    "    for i in range(len(s)):\n",
    "        if s[i] == goal[j]:\n",
    "            j += 1\n",
    "        if j == 4:\n",
    "            break\n",
    "    return j == 4\n",
    "baohan(20230000)"
   ]
  },
  {
   "cell_type": "markdown",
   "metadata": {},
   "source": [
    "向上取整(数学思维)"
   ]
  },
  {
   "cell_type": "code",
   "execution_count": null,
   "metadata": {},
   "outputs": [],
   "source": [
    "def cal_hours(dist,mid):\n",
    "    cost = 0\n",
    "    for i in dist[:-1]:\n",
    "        # 向上取整数且在整除为整数时为不向上取\n",
    "        cost += (i + mid - 1) // mid  \n",
    "    # 单独计算最后一次的耗时\n",
    "\n",
    "    cost += dist[-1] / mid\n",
    "    return cost\n",
    "# 具体看D:\\ProgramData\\pythonProject\\alg_1\\lesson2.py"
   ]
  },
  {
   "cell_type": "markdown",
   "metadata": {},
   "source": [
    "将整数转化为二进制\n"
   ]
  },
  {
   "cell_type": "code",
   "execution_count": 1,
   "metadata": {},
   "outputs": [
    {
     "name": "stdout",
     "output_type": "stream",
     "text": [
      "0b1101\n",
      "1101\n"
     ]
    }
   ],
   "source": [
    "decimal_number = 13\n",
    "binary_representation = bin(decimal_number)\n",
    "print(binary_representation)\n",
    "binary_number = bin(decimal_number)[2:]\n",
    "print(binary_number)\n"
   ]
  },
  {
   "cell_type": "markdown",
   "metadata": {},
   "source": [
    "求第n位小数\n"
   ]
  },
  {
   "cell_type": "markdown",
   "metadata": {},
   "source": [
    "a / b 且 a < b（数学思维）"
   ]
  },
  {
   "cell_type": "markdown",
   "metadata": {},
   "source": [
    "https://www.luogu.com.cn/problem/solution/B2073"
   ]
  },
  {
   "cell_type": "code",
   "execution_count": 4,
   "metadata": {},
   "outputs": [
    {
     "name": "stdout",
     "output_type": "stream",
     "text": [
      "4\n"
     ]
    }
   ],
   "source": [
    "a = int(input())\n",
    "b = int(input())\n",
    "n = int(input()) # 第n位小数\n",
    "for i in range(1, n):\n",
    "    a = a * 10 % b\n",
    "print(a * 10 // b)"
   ]
  },
  {
   "cell_type": "markdown",
   "metadata": {},
   "source": [
    "余数具有可加性，可减性，可积性 （数学性质）"
   ]
  },
  {
   "cell_type": "markdown",
   "metadata": {},
   "source": [
    "https://www.luogu.com.cn/problem/solution/B2073"
   ]
  },
  {
   "cell_type": "markdown",
   "metadata": {},
   "source": [
    "常用的同余公式\n"
   ]
  },
  {
   "cell_type": "markdown",
   "metadata": {},
   "source": [
    "(a * b) % c = (a % c * b % c) % c\n",
    "\n",
    "(a + b) % c = (a % c + b % c) % c"
   ]
  },
  {
   "cell_type": "markdown",
   "metadata": {},
   "source": [
    "https://blog.csdn.net/weixin_30235225/article/details/98692473?ops_request_misc=%257B%2522request%255Fid%2522%253A%2522170436505816777224496338%2522%252C%2522scm%2522%253A%252220140713.130102334..%2522%257D&request_id=170436505816777224496338&biz_id=0&utm_medium=distribute.pc_search_result.none-task-blog-2~all~sobaiduend~default-1-98692473-null-null.142^v99^pc_search_result_base7&utm_term=%E5%90%8C%E4%BD%99%E5%AE%9A%E7%90%86%E7%9A%84%E8%AF%81%E6%98%8E&spm=1018.2226.3001.4187"
   ]
  },
  {
   "cell_type": "code",
   "execution_count": 6,
   "metadata": {},
   "outputs": [
    {
     "name": "stdout",
     "output_type": "stream",
     "text": [
      "4\n"
     ]
    }
   ],
   "source": [
    "# 这里假设要求a**b mod 7 的余数 \n",
    "# 数据很大，所以边乘边mod\n",
    "a = int(input())\n",
    "b = int(input())\n",
    "ans = 1\n",
    "for i in range(b):\n",
    "    ans = (a % 7 * ans % 7) % 7\n",
    "print(ans)"
   ]
  },
  {
   "cell_type": "markdown",
   "metadata": {},
   "source": [
    "for enumerate的用法\n"
   ]
  },
  {
   "cell_type": "markdown",
   "metadata": {},
   "source": [
    "for else 语句 ？？？"
   ]
  },
  {
   "cell_type": "code",
   "execution_count": null,
   "metadata": {},
   "outputs": [],
   "source": [
    "l = [1, 2, 3]\n",
    "\n",
    "for ind, i in enumerate(l):\n",
    "    print(f\"索引为{ind},对应值为{i}\")"
   ]
  },
  {
   "cell_type": "markdown",
   "metadata": {},
   "source": [
    "列表推导式"
   ]
  },
  {
   "cell_type": "markdown",
   "metadata": {},
   "source": [
    "初始化动态数组，即列表的一种快速且简便的形式"
   ]
  },
  {
   "cell_type": "code",
   "execution_count": 2,
   "metadata": {},
   "outputs": [
    {
     "name": "stdout",
     "output_type": "stream",
     "text": [
      "[0, 0, 0, 0, 0, 0, 0, 0, 0, 0, 0, 0, 0, 0, 0, 0, 0, 0, 0, 0]\n",
      "[0, 0, 0, 0, 0, 0, 0, 0, 0, 0, 0, 0, 0, 0, 0, 0, 0, 0, 0, 0]\n",
      "[0, 0, 0, 0, 0, 0, 0, 0, 0, 0, 0, 0, 0, 0, 0, 0, 0, 0, 0, 0]\n"
     ]
    }
   ],
   "source": [
    "arr1 = [0 for i in range(20)]\n",
    "arr2 = [0] * 20\n",
    "arr3 = []\n",
    "for i in range(20):\n",
    "    arr3.append(0)\n",
    "print(arr1)\n",
    "print(arr2)\n",
    "print(arr3)"
   ]
  },
  {
   "cell_type": "markdown",
   "metadata": {},
   "source": [
    "c++中cmp函数在python的用法\n"
   ]
  },
  {
   "cell_type": "markdown",
   "metadata": {},
   "source": [
    "通过与5比较来排序\n",
    "\n",
    "\n",
    "分为比5小与5一样和比5大三种情况排序\n",
    "\n",
    "由key中的函数决定"
   ]
  },
  {
   "cell_type": "code",
   "execution_count": 2,
   "metadata": {},
   "outputs": [
    {
     "name": "stdout",
     "output_type": "stream",
     "text": [
      "[3, 1, 4, 1, 2, 3, 5, 5, 5, 9, 6]\n"
     ]
    }
   ],
   "source": [
    "numbers = [3, 1, 4, 1, 5, 9, 2, 6, 5, 3, 5]\n",
    "\n",
    "def custom_cmp(x, y):\n",
    "    return (x > y) - (x < y)\n",
    "\n",
    "sorted_numbers = sorted(numbers, key=lambda x: custom_cmp(x, 5))\n",
    "\n",
    "print(sorted_numbers)"
   ]
  },
  {
   "cell_type": "markdown",
   "metadata": {},
   "source": [
    "end = \" \"的输入方式，且可以对输入的数据进行处理"
   ]
  },
  {
   "cell_type": "code",
   "execution_count": null,
   "metadata": {},
   "outputs": [],
   "source": [
    "a = []  # 创建一个空字典用于存放输入的整数\n",
    "\n",
    "# 读取一行输入，使用 split() 方法分割成多个部分，然后将每个部分转换为整数并放入字典中\n",
    "for x in map(int, input().split()):\n",
    "    a[x] = 1\n",
    "\n",
    "print(a)  # 输出包含输入整数的字典\n"
   ]
  },
  {
   "cell_type": "markdown",
   "metadata": {},
   "source": [
    "进制转换"
   ]
  },
  {
   "cell_type": "code",
   "execution_count": null,
   "metadata": {},
   "outputs": [],
   "source": [
    "c = 123456789\n",
    "print('十进制是-------', c)\n",
    "\n",
    "# 十进制转二进制\n",
    "print('十进制转二进制-------', bin(c)) # binary system\n",
    "\n",
    "# 十进制转八进制\n",
    "print('十进制转八进制-------', oct(c)) # octonary number system\n",
    "\n",
    "# 十进制转十六进制\n",
    "print('十进制转十六进制-------', hex(c)) # hexadecimal\n"
   ]
  },
  {
   "cell_type": "markdown",
   "metadata": {},
   "source": [
    "二维数组输入方式"
   ]
  },
  {
   "cell_type": "code",
   "execution_count": 1,
   "metadata": {},
   "outputs": [
    {
     "name": "stdout",
     "output_type": "stream",
     "text": [
      "[['o', 'o', 'o'], ['1', '2', '3'], ['3', '2', '1'], ['4', '5', '6'], ['o', 'p', 'l']]\n"
     ]
    }
   ],
   "source": [
    "n = int(input())\n",
    "a = [list(input()) for _ in range(n)]\n",
    "print(a)"
   ]
  },
  {
   "cell_type": "markdown",
   "metadata": {},
   "source": [
    "ASCII的转换"
   ]
  },
  {
   "cell_type": "code",
   "execution_count": null,
   "metadata": {},
   "outputs": [],
   "source": [
    "\n",
    " \n",
    "# 用户输入字符\n",
    "c = input(\"请输入一个字符: \")\n",
    " \n",
    "# 用户输入ASCII码，并将输入的数字转为整型\n",
    "a = int(input(\"请输入一个ASCII码: \"))\n",
    " \n",
    " \n",
    "print( c + \" 的ASCII 码为\", ord(c))\n",
    "print( a , \" 对应的字符为\", chr(a))"
   ]
  },
  {
   "cell_type": "code",
   "execution_count": 1,
   "metadata": {},
   "outputs": [
    {
     "name": "stdout",
     "output_type": "stream",
     "text": [
      "1 2 3 4\n"
     ]
    }
   ],
   "source": [
    "n = input()\n",
    "print(f\"{n[0]} {n[1]} {n[2]} {n[3]}\")"
   ]
  }
 ],
 "metadata": {
  "kernelspec": {
   "display_name": "py311",
   "language": "python",
   "name": "python3"
  },
  "language_info": {
   "codemirror_mode": {
    "name": "ipython",
    "version": 3
   },
   "file_extension": ".py",
   "mimetype": "text/x-python",
   "name": "python",
   "nbconvert_exporter": "python",
   "pygments_lexer": "ipython3",
   "version": "3.9.13"
  }
 },
 "nbformat": 4,
 "nbformat_minor": 2
}
